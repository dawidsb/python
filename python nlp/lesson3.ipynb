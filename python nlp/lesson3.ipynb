{
 "cells": [
  {
   "cell_type": "markdown",
   "metadata": {},
   "source": [
    "# 1. Bag of words"
   ]
  },
  {
   "cell_type": "code",
   "execution_count": 30,
   "metadata": {},
   "outputs": [
    {
     "name": "stdout",
     "output_type": "stream",
     "text": [
      "45\n",
      "I dropped out of Reed College after the first 6 months, but then stayed around as a drop-in for another 18 months or so before I really quit.\n",
      "['18', 'adoption', 'after', 'and', 'another', 'around', 'as', 'before', 'biological', 'born', 'but', 'college', 'decided', 'did', 'drop', 'dropped', 'first', 'for', 'graduate', 'in', 'it', 'me', 'months', 'mother', 'my', 'of', 'or', 'out', 'put', 'quit', 'really', 'reed', 'she', 'so', 'started', 'stayed', 'student', 'the', 'then', 'to', 'unwed', 'up', 'was', 'why', 'young']\n",
      "[[1 0 1 0 1 1 1 1 0 0 1 1 0 0 1 1 1 1 0 1 0 0 2 0 0 1 1 1 0 1 1 1 0 1 0 1\n",
      "  0 1 1 0 0 0 0 0 0]\n",
      " [0 0 0 0 0 0 0 0 0 0 0 0 0 1 1 0 0 0 0 0 0 0 0 0 0 0 0 1 0 0 0 0 0 1 0 0\n",
      "  0 0 0 0 0 0 0 1 0]\n",
      " [0 0 0 0 0 0 0 1 0 1 0 0 0 0 0 0 0 0 0 0 1 0 0 0 0 0 0 0 0 0 0 0 0 0 1 0\n",
      "  0 0 0 0 0 0 1 0 0]\n",
      " [0 1 0 1 0 0 0 0 1 0 0 1 1 0 0 0 0 1 1 0 0 1 0 1 1 0 0 0 1 0 0 0 1 0 0 0\n",
      "  1 0 0 1 1 1 1 0 1]]\n",
      "Word \" adoption \" appears 1 times in sentence: My biological mother was a young, unwed college graduate student, and she decided to put me up for adoption.\n"
     ]
    }
   ],
   "source": [
    "from sklearn.feature_extraction.text import CountVectorizer\n",
    "\n",
    "vectorizer = CountVectorizer()\n",
    "\n",
    "X = vectorizer.fit_transform(sentences)\n",
    "\n",
    "vocabulary = vectorizer.get_feature_names()\n",
    "\n",
    "print(len(vocabulary))\n",
    "print(sentences[0])\n",
    "print(vocabulary)\n",
    "print(X.toarray())\n",
    "\n",
    "word_nr = 1\n",
    "sentence_nr = 3\n",
    "print('Word \\\"',vocabulary[word_nr],'\\\" appears', X.toarray()[sentence_nr,word_nr],'times in sentence:', sentences[sentence_nr])\n"
   ]
  },
  {
   "cell_type": "code",
   "execution_count": 127,
   "metadata": {},
   "outputs": [
    {
     "name": "stdout",
     "output_type": "stream",
     "text": [
      "['18 months', 'after the', 'and she', 'another 18', 'around as', 'as drop', 'before really', 'before was', 'biological mother', 'but then', 'college after', 'college graduate', 'decided to', 'did drop', 'drop in', 'drop out', 'dropped out', 'first months', 'for adoption', 'for another', 'graduate student', 'in for', 'it started', 'me up', 'months but', 'months or', 'mother was', 'my biological', 'of reed', 'or so', 'out of', 'put me', 'really quit', 'reed college', 'she decided', 'so before', 'so why', 'started before', 'stayed around', 'student and', 'the first', 'then stayed', 'to put', 'unwed college', 'up for', 'was born', 'was young', 'why did', 'young unwed']\n",
      "[[1 1 0 1 1 1 1 0 0 1 1 0 0 0 1 0 1 1 0 1 0 1 0 0 1 1 0 0 1 1 1 0 1 1 0 1\n",
      "  0 0 1 0 1 1 0 0 0 0 0 0 0]\n",
      " [0 0 0 0 0 0 0 0 0 0 0 0 0 1 0 1 0 0 0 0 0 0 0 0 0 0 0 0 0 0 0 0 0 0 0 0\n",
      "  1 0 0 0 0 0 0 0 0 0 0 1 0]\n",
      " [0 0 0 0 0 0 0 1 0 0 0 0 0 0 0 0 0 0 0 0 0 0 1 0 0 0 0 0 0 0 0 0 0 0 0 0\n",
      "  0 1 0 0 0 0 0 0 0 1 0 0 0]\n",
      " [0 0 1 0 0 0 0 0 1 0 0 1 1 0 0 0 0 0 1 0 1 0 0 1 0 0 1 1 0 0 0 1 0 0 1 0\n",
      "  0 0 0 1 0 0 1 1 1 0 1 0 1]]\n"
     ]
    }
   ],
   "source": [
    "vectorizer2 = CountVectorizer(analyzer='word', ngram_range=(2, 2))\n",
    "\n",
    "X2 = vectorizer2.fit_transform(sentences)\n",
    "\n",
    "print(vectorizer2.get_feature_names())\n",
    "\n",
    "print(X2.toarray())"
   ]
  },
  {
   "cell_type": "code",
   "execution_count": null,
   "metadata": {},
   "outputs": [],
   "source": []
  }
 ],
 "metadata": {
  "kernelspec": {
   "display_name": "Python 3",
   "language": "python",
   "name": "python3"
  },
  "language_info": {
   "codemirror_mode": {
    "name": "ipython",
    "version": 3
   },
   "file_extension": ".py",
   "mimetype": "text/x-python",
   "name": "python",
   "nbconvert_exporter": "python",
   "pygments_lexer": "ipython3",
   "version": "3.7.6"
  }
 },
 "nbformat": 4,
 "nbformat_minor": 4
}
