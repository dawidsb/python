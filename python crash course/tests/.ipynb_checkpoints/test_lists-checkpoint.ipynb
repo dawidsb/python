{
 "cells": [
  {
   "cell_type": "markdown",
   "metadata": {},
   "source": [
    "# Praca z listą\n",
    "## Zgodnie z poniższymi krokami utwórz listę i wykonuj kolejne polecenia."
   ]
  },
  {
   "cell_type": "markdown",
   "metadata": {},
   "source": [
    "1. Utwórz listę topAllTime2019 zawierającą tytuły: 'CHILD IN TIME', 'BOHEMIAN RHAPSODY','RIDERS ON THE STORM', 'STAIRWAY TO HEAVEN', 'WISH YOU WERE HERE'."
   ]
  },
  {
   "cell_type": "code",
   "execution_count": null,
   "metadata": {},
   "outputs": [],
   "source": [
    "topAllTime2019 = ['CHILD IN TIME', 'BOHEMIAN RHAPSODY','RIDERS ON THE STORM', 'STAIRWAY TO HEAVEN', 'WISH YOU WERE HERE']\n",
    "print(topAllTime2019)"
   ]
  },
  {
   "cell_type": "markdown",
   "metadata": {},
   "source": [
    "2. Dodaj do listy kolejne trzy piosenki: 'IMAGINE', 'NOTHING ELSE MATTERS' i 'HOTEL CALIFORNIA'"
   ]
  },
  {
   "cell_type": "code",
   "execution_count": null,
   "metadata": {},
   "outputs": [],
   "source": [
    "topAllTime2019.append('IMAGINE')\n",
    "topAllTime2019.append('NOTHING ELSE MATTERS')\n",
    "topAllTime2019.append('JEDWAB')\n",
    "topAllTime2019.append('HOTEL CALIFORNIA')\n",
    "print(topAllTime2019)"
   ]
  },
  {
   "cell_type": "markdown",
   "metadata": {},
   "source": [
    "3. Przenieś 'BOHEMIAN RHAPSODY' na pozycję pierwszą (upewnij się, że nie zdublował i nie występuje na innych pozycjach."
   ]
  },
  {
   "cell_type": "code",
   "execution_count": null,
   "metadata": {},
   "outputs": [],
   "source": [
    "topAllTime2019.pop(1)\n",
    "topAllTime2019.insert(0,'BOHEMIAN RHAPSODY')\n",
    "print(topAllTime2019)"
   ]
  },
  {
   "cell_type": "markdown",
   "metadata": {},
   "source": [
    "4. Dodaj 'EPITAPH' na pozycję 4."
   ]
  },
  {
   "cell_type": "code",
   "execution_count": null,
   "metadata": {},
   "outputs": [],
   "source": [
    "topAllTime2019.insert(3,'EPITAPH')\n",
    "print(topAllTime2019)"
   ]
  },
  {
   "cell_type": "markdown",
   "metadata": {},
   "source": [
    "5. Na jakiej pozycji jest 'JEDWAB'?"
   ]
  },
  {
   "cell_type": "code",
   "execution_count": null,
   "metadata": {},
   "outputs": [],
   "source": [
    "topAllTime2019.index('JEDWAB')+1"
   ]
  },
  {
   "cell_type": "markdown",
   "metadata": {},
   "source": [
    "6. Usuń 'JEDWAB' z listy Top All Time 2019!"
   ]
  },
  {
   "cell_type": "code",
   "execution_count": null,
   "metadata": {},
   "outputs": [],
   "source": [
    "topAllTime2019.pop(8)\n",
    "print(topAllTime2019)"
   ]
  },
  {
   "cell_type": "markdown",
   "metadata": {},
   "source": [
    "7. Utwórz kopię listy topAllTime2019 o nazwie hitsToPlay."
   ]
  },
  {
   "cell_type": "code",
   "execution_count": null,
   "metadata": {},
   "outputs": [],
   "source": [
    "hitsToPlay = topAllTime2019.copy()\n",
    "print(hitsToPlay)"
   ]
  },
  {
   "cell_type": "markdown",
   "metadata": {},
   "source": [
    "8. Odwróć kolejność elementów na liście hitsToPlay."
   ]
  },
  {
   "cell_type": "code",
   "execution_count": null,
   "metadata": {},
   "outputs": [],
   "source": [
    "hitsToPlay.reverse()\n",
    "print(hitsToPlay)"
   ]
  },
  {
   "cell_type": "markdown",
   "metadata": {},
   "source": [
    "9. Posortuj hitsToPlay w kolejności alfabetycznej"
   ]
  },
  {
   "cell_type": "code",
   "execution_count": null,
   "metadata": {},
   "outputs": [],
   "source": [
    "hitsToPlay.sort()\n",
    "print(hitsToPlay)"
   ]
  },
  {
   "cell_type": "markdown",
   "metadata": {},
   "source": [
    "10. Wydrukuj (print) pierwsze trzy utwory listy hitsToPlay. Po wydrukowaniu usuń go z listy."
   ]
  },
  {
   "cell_type": "code",
   "execution_count": null,
   "metadata": {},
   "outputs": [],
   "source": [
    "for hit in hitsToPlay[0:3]:\n",
    "    print(hit)\n",
    "    hitsToPlay.pop(0)\n",
    "    \n",
    "print(hitsToPlay)    "
   ]
  },
  {
   "cell_type": "markdown",
   "metadata": {},
   "source": [
    "11. Utwórz listę morePinkFloyd zawierającą te dwa tytuły Pink Floyd: 'WHAT DO YOU WANT FROM ME', 'KEEP TALKING' i 'WISH YOU WERE HERE'."
   ]
  },
  {
   "cell_type": "code",
   "execution_count": null,
   "metadata": {},
   "outputs": [],
   "source": [
    "morePinkFloyd = ['WHAT DO YOU WANT FROM ME', 'KEEP TALKING', 'WISH YOU WERE HERE']\n",
    "print(morePinkFloyd)"
   ]
  },
  {
   "cell_type": "markdown",
   "metadata": {},
   "source": [
    "12. Do listy hitsToPlay dodah elementy z listy morePinkFloyd."
   ]
  },
  {
   "cell_type": "code",
   "execution_count": null,
   "metadata": {},
   "outputs": [],
   "source": [
    "hitsToPlay+=morePinkFloyd\n",
    "print(hitsToPlay)"
   ]
  },
  {
   "cell_type": "markdown",
   "metadata": {},
   "source": [
    "13. Ile razy na liście hitsToPlay występuje utwór 'WISH YOU WERE HERE'."
   ]
  },
  {
   "cell_type": "code",
   "execution_count": null,
   "metadata": {},
   "outputs": [],
   "source": [
    "hitsToPlay.count( 'WISH YOU WERE HERE')"
   ]
  },
  {
   "cell_type": "markdown",
   "metadata": {},
   "source": [
    "14. Wyczyść listę hitsToPlay"
   ]
  },
  {
   "cell_type": "code",
   "execution_count": null,
   "metadata": {},
   "outputs": [],
   "source": [
    "hitsToPlay.clear()\n",
    "print(hitsToPlay)"
   ]
  },
  {
   "cell_type": "code",
   "execution_count": null,
   "metadata": {},
   "outputs": [],
   "source": []
  }
 ],
 "metadata": {
  "kernelspec": {
   "display_name": "Python 3",
   "language": "python",
   "name": "python3"
  },
  "language_info": {
   "codemirror_mode": {
    "name": "ipython",
    "version": 3
   },
   "file_extension": ".py",
   "mimetype": "text/x-python",
   "name": "python",
   "nbconvert_exporter": "python",
   "pygments_lexer": "ipython3",
   "version": "3.7.6"
  }
 },
 "nbformat": 4,
 "nbformat_minor": 4
}
