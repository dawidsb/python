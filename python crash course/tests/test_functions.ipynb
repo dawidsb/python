{
 "cells": [
  {
   "cell_type": "markdown",
   "metadata": {},
   "source": [
    "# Praca z funkcjami\n",
    "## Zgodnie z poniższymi krokami utwórz funkcje i wykonuj kolejne polecenia."
   ]
  },
  {
   "cell_type": "markdown",
   "metadata": {},
   "source": [
    "Przygotowujesz skrypty, które nie tylko wykonają pewne czynności, ale dodatkowo wygenerują raport, który będzie oznaczony logo firmy. Naszym logo będzie kot, miś lub nietoperz."
   ]
  },
  {
   "cell_type": "raw",
   "metadata": {},
   "source": [
    "1. Napisz funkcje:\n",
    "\n",
    "PrintCat() - wyświetlającą kota\n",
    "\n",
    "PrintBear() - wyświetlającą misia\n",
    "\n",
    "PrintBat() - wyświetlającą nietoperza.\n",
    "\n",
    "Oto dane, które przydadzą się w tym zadaniu:\n",
    "\n",
    "    txt = r'''\n",
    "|\\---/|\n",
    "| o_o |\n",
    " \\_^_/'''\n",
    "    \n",
    "    \n",
    "    txt = r'''\n",
    "/  \\.-\"\"\"-./  \\\n",
    "\\    -   -    /\n",
    " |   o   o   |\n",
    " \\  .-'\"'-.  /\n",
    "  '-\\__Y__/-'\n",
    "     `---`'''\n",
    "   \n",
    "   \n",
    "    txt = r'''\n",
    "   /\\                 /\\\n",
    "  / \\'._   (\\_/)   _.'/ \\\n",
    " /_.''._'--('.')--'_.''._\\\n",
    " | \\_ / `;=/ \" \\=;` \\ _/ |\n",
    "  \\/ `\\__|`\\___/`|__/`  \\/\n",
    "          \\(/|\\)/       '''"
   ]
  },
  {
   "cell_type": "code",
   "execution_count": null,
   "metadata": {},
   "outputs": [],
   "source": []
  },
  {
   "cell_type": "raw",
   "metadata": {},
   "source": [
    "2. Poniżej znajdziesz moje propozycje trzech funkcji. Każda z nich robiła inną rzecz, ale wszystkie są do siebie podobne. Zastąpimy je jedną funkcją, która przyjmie parametr i w zależności od tego parametru wyświetli inny \"obrazek\":\n",
    "\n",
    "\n",
    "- zadeklaruj funkcję PrintAnimal\n",
    "\n",
    "- zdefiniuj przekazywany parametr o nazwie animal\n",
    "\n",
    "    - jeżeli animal to 'cat', to wyświetl obrazek kota\n",
    "\n",
    "    - jeżeli animal to 'bear', to wyświetl obrazek misia\n",
    "\n",
    "    - jeżeli animal to 'bat', to wyświetl obrazek nietoperza\n",
    "\n",
    "    - a jeżeli wartość jest zupełnie inna, to wyświetl komunikat: \"Cannot print '%s'. Correct values for the parameter are: cat, bear, bat\", zastępując %s napisem przekazanym w animal\n",
    "\n",
    "- Przetestuj wywołanie funkcji przekazując różne wartości argumentu, czasami przez pozycję, a czasami przez nazwę. Przekazuj poprawne i niepoprawne parametry (ale póki co tylko napisy - nie np. liczby)\n",
    "\n",
    "Oto funkcje do przeróbki:\n",
    "\n",
    "def PrintCat():\n",
    "    # this function prints a cat ascii-art\n",
    "    txt = r'''\n",
    "|\\---/|\n",
    "| o_o |\n",
    " \\_^_/'''\n",
    "    print(txt)\n",
    "    return\n",
    " \n",
    "def PrintBear():\n",
    "    # this function prints a bear ascii-art\n",
    "    txt = r'''\n",
    "/  \\.-\"\"\"-./  \\\n",
    "\\    -   -    /\n",
    " |   o   o   |\n",
    " \\  .-'\"'-.  /\n",
    "  '-\\__Y__/-'\n",
    "     `---`'''\n",
    "    print(txt)\n",
    "    return\n",
    " \n",
    "def PrintBat():\n",
    "    # this function prints a bat ascii-art\n",
    "    txt = r'''\n",
    "   /\\                 /\\\n",
    "  / \\'._   (\\_/)   _.'/ \\\n",
    " /_.''._'--('.')--'_.''._\\\n",
    " | \\_ / `;=/ \" \\=;` \\ _/ |\n",
    "  \\/ `\\__|`\\___/`|__/`  \\/\n",
    "          \\(/|\\)/  \n",
    "     '''\n",
    "    print(txt)\n",
    "    return"
   ]
  },
  {
   "cell_type": "code",
   "execution_count": null,
   "metadata": {},
   "outputs": [],
   "source": []
  },
  {
   "cell_type": "markdown",
   "metadata": {},
   "source": [
    "3. Funkcja PrintAnimal(animal) wyświetla obrazek odpowiadający przekazanemu parametrowi. A co jeśli żaden parametr nie zostanie przekazany? Obecnie funkcja wyświetli błąd.\n",
    "\n",
    "Zmień to. Jeżeli żaden parametr nie został przekazany, to parametr animal ma być zainicjowany napisem pustym. Po zmianie wywołaj funkcję przekazując parametr lub go opuszczając. W przypadku opuszczenia parametru powinien zostać wyświetlony komunikat wskazujący na poprawne wartości parametru."
   ]
  },
  {
   "cell_type": "code",
   "execution_count": null,
   "metadata": {},
   "outputs": [],
   "source": []
  },
  {
   "cell_type": "markdown",
   "metadata": {},
   "source": [
    "4. Należy zwrócić informację o tym czy obrazek został wyświetlony, czy nie:\n",
    "\n",
    "\n",
    "- Jeżeli przekazano poprawny parametr i obrazek został wyświetlony, należy zrócić wartość True\n",
    "\n",
    "- Jeżeli przekazano niepoprawny parametr i obrazek nie został wyświetlony, należy zwrócić False\n",
    "\n",
    "Przetestuj działanie funkcji po zmianie"
   ]
  },
  {
   "cell_type": "code",
   "execution_count": null,
   "metadata": {},
   "outputs": [],
   "source": []
  },
  {
   "cell_type": "markdown",
   "metadata": {},
   "source": [
    "5. Zmień definicję funkcji PrintAnimal tak, aby można było przekazać zmienną ilość nazw zwierząt, które mają być narysowane. Na tym etapie rezygnujemy ze zwracania wartości oraz wartości domyślnej. Po zmianach przetestuj działanie funkcji przekazując po kilka nazw zwierząt jako parametr (wybieraj spośród tych zdefiniowanych w funkcji, jak i niepoprawnych)"
   ]
  },
  {
   "cell_type": "code",
   "execution_count": null,
   "metadata": {},
   "outputs": [],
   "source": []
  }
 ],
 "metadata": {
  "kernelspec": {
   "display_name": "Python 3",
   "language": "python",
   "name": "python3"
  },
  "language_info": {
   "codemirror_mode": {
    "name": "ipython",
    "version": 3
   },
   "file_extension": ".py",
   "mimetype": "text/x-python",
   "name": "python",
   "nbconvert_exporter": "python",
   "pygments_lexer": "ipython3",
   "version": "3.7.6"
  }
 },
 "nbformat": 4,
 "nbformat_minor": 4
}
