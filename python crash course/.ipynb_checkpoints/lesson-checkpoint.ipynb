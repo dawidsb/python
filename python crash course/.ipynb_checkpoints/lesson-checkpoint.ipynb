{
 "cells": [
  {
   "cell_type": "markdown",
   "metadata": {},
   "source": [
    "# 1. Zanim zaczniemy"
   ]
  },
  {
   "cell_type": "markdown",
   "metadata": {},
   "source": [
    "python --version"
   ]
  },
  {
   "cell_type": "markdown",
   "metadata": {},
   "source": [
    "Aby sprawdzić typ obiektu użyj \"type(...)\"."
   ]
  },
  {
   "cell_type": "code",
   "execution_count": 6,
   "metadata": {},
   "outputs": [
    {
     "data": {
      "text/plain": [
       "list"
      ]
     },
     "execution_count": 6,
     "metadata": {},
     "output_type": "execute_result"
    }
   ],
   "source": [
    "variable = ['Hellow','World','!']\n",
    "type(variable)"
   ]
  },
  {
   "cell_type": "markdown",
   "metadata": {},
   "source": [
    "Aby sprawdzić dostępne funkcje dla danego obiektu użyj dir(...)"
   ]
  },
  {
   "cell_type": "code",
   "execution_count": 13,
   "metadata": {},
   "outputs": [
    {
     "data": {
      "text/plain": [
       "['__class__',\n",
       " '__delattr__',\n",
       " '__dict__',\n",
       " '__dir__',\n",
       " '__doc__',\n",
       " '__eq__',\n",
       " '__format__',\n",
       " '__ge__',\n",
       " '__getattribute__',\n",
       " '__gt__',\n",
       " '__hash__',\n",
       " '__init__',\n",
       " '__init_subclass__',\n",
       " '__le__',\n",
       " '__lt__',\n",
       " '__module__',\n",
       " '__ne__',\n",
       " '__new__',\n",
       " '__reduce__',\n",
       " '__reduce_ex__',\n",
       " '__repr__',\n",
       " '__setattr__',\n",
       " '__sizeof__',\n",
       " '__str__',\n",
       " '__subclasshook__',\n",
       " '__unicode__',\n",
       " '__weakref__',\n",
       " 'lemmatize',\n",
       " 'unicode_repr']"
      ]
     },
     "execution_count": 13,
     "metadata": {},
     "output_type": "execute_result"
    }
   ],
   "source": [
    "from nltk.stem import WordNetLemmatizer\n",
    "dir(WordNetLemmatizer)"
   ]
  },
  {
   "cell_type": "markdown",
   "metadata": {},
   "source": [
    "Dokumentacja dla obiektu, metody lub funkcji"
   ]
  },
  {
   "cell_type": "code",
   "execution_count": 14,
   "metadata": {},
   "outputs": [
    {
     "name": "stdout",
     "output_type": "stream",
     "text": [
      "Help on class WordNetLemmatizer in module nltk.stem.wordnet:\n",
      "\n",
      "class WordNetLemmatizer(builtins.object)\n",
      " |  WordNet Lemmatizer\n",
      " |  \n",
      " |  Lemmatize using WordNet's built-in morphy function.\n",
      " |  Returns the input word unchanged if it cannot be found in WordNet.\n",
      " |  \n",
      " |      >>> from nltk.stem import WordNetLemmatizer\n",
      " |      >>> wnl = WordNetLemmatizer()\n",
      " |      >>> print(wnl.lemmatize('dogs'))\n",
      " |      dog\n",
      " |      >>> print(wnl.lemmatize('churches'))\n",
      " |      church\n",
      " |      >>> print(wnl.lemmatize('aardwolves'))\n",
      " |      aardwolf\n",
      " |      >>> print(wnl.lemmatize('abaci'))\n",
      " |      abacus\n",
      " |      >>> print(wnl.lemmatize('hardrock'))\n",
      " |      hardrock\n",
      " |  \n",
      " |  Methods defined here:\n",
      " |  \n",
      " |  __init__(self)\n",
      " |      Initialize self.  See help(type(self)) for accurate signature.\n",
      " |  \n",
      " |  __repr__(self)\n",
      " |      Return repr(self).\n",
      " |  \n",
      " |  __unicode__ = __str__(self, /)\n",
      " |  \n",
      " |  lemmatize(self, word, pos='n')\n",
      " |  \n",
      " |  unicode_repr = __repr__(self)\n",
      " |  \n",
      " |  ----------------------------------------------------------------------\n",
      " |  Data descriptors defined here:\n",
      " |  \n",
      " |  __dict__\n",
      " |      dictionary for instance variables (if defined)\n",
      " |  \n",
      " |  __weakref__\n",
      " |      list of weak references to the object (if defined)\n",
      "\n"
     ]
    }
   ],
   "source": [
    "from nltk.stem import WordNetLemmatizer\n",
    "help(WordNetLemmatizer)"
   ]
  },
  {
   "cell_type": "markdown",
   "metadata": {},
   "source": [
    "# 2. Zmienne"
   ]
  },
  {
   "cell_type": "markdown",
   "metadata": {},
   "source": [
    "Zmienne to nie są stałe. To paradoksalnie tautologiczne ujęcie rzeczy mówi w istocie\n",
    "wszystko o tym czym jest zmienna"
   ]
  },
  {
   "cell_type": "code",
   "execution_count": 15,
   "metadata": {},
   "outputs": [
    {
     "name": "stdout",
     "output_type": "stream",
     "text": [
      "Variable my_number has value:  5\n",
      "Variable my_number has value:  10\n"
     ]
    }
   ],
   "source": [
    "my_number = 5\n",
    "print(\"Variable my_number has value: \", my_number)\n",
    "my_number = 10\n",
    "print(\"Variable my_number has value: \", my_number)"
   ]
  },
  {
   "cell_type": "markdown",
   "metadata": {},
   "source": [
    "W Pythonie nie deklarujemy zmiennych jak to ma miejsce np. w języku JAVA. Zmienna jest tworzona w momencie przypisania do niej jakiejś wartości."
   ]
  },
  {
   "cell_type": "code",
   "execution_count": 18,
   "metadata": {},
   "outputs": [
    {
     "name": "stdout",
     "output_type": "stream",
     "text": [
      "[5]\n",
      "<class 'list'>\n"
     ]
    }
   ],
   "source": [
    "my_number = 5\n",
    "my_word = \"Hej!\"\n",
    "my_list = [5]\n",
    "\n",
    "print(my_list)\n",
    "print(type(my_list))"
   ]
  },
  {
   "cell_type": "markdown",
   "metadata": {},
   "source": [
    "# 3. Operatory matematyczne"
   ]
  },
  {
   "cell_type": "code",
   "execution_count": 23,
   "metadata": {},
   "outputs": [
    {
     "name": "stdout",
     "output_type": "stream",
     "text": [
      "12 + 4 = 16\n",
      "12 - 4 = 8\n",
      "12 * 4 = 48\n",
      "12 / 4 = 3.0\n",
      "12 % 4 = 0\n"
     ]
    }
   ],
   "source": [
    "num1 = 12\n",
    "num2 = 4\n",
    "\n",
    "result = num1 + num2\n",
    "print(num1, '+', num2,'=',result)\n",
    "\n",
    "result = num1 - num2\n",
    "print(num1, '-', num2,'=',result)\n",
    "\n",
    "result = num1 * num2\n",
    "print(num1, '*', num2,'=',result)\n",
    "\n",
    "result = num1 / num2\n",
    "print(num1, '/', num2,'=',result)\n",
    "\n",
    "result = num1 % num2\n",
    "print(num1, '%', num2,'=',result)"
   ]
  },
  {
   "cell_type": "markdown",
   "metadata": {},
   "source": [
    "# 4. Operacje na napisach (stringach)"
   ]
  },
  {
   "cell_type": "code",
   "execution_count": 28,
   "metadata": {},
   "outputs": [
    {
     "name": "stdout",
     "output_type": "stream",
     "text": [
      "Hello World!\n",
      "I'm 30 years old.\n",
      "I'm 30 years old.\n"
     ]
    }
   ],
   "source": [
    "hw = \"Hello World\"\n",
    "em = \"!\" \n",
    "print(hw + em)\n",
    "\n",
    "age = 30\n",
    "print('I\\'m',age,'years old.')\n",
    "print('I\\'m '+str(age)+' years old.')"
   ]
  },
  {
   "cell_type": "code",
   "execution_count": 26,
   "metadata": {},
   "outputs": [
    {
     "ename": "TypeError",
     "evalue": "unsupported operand type(s) for -: 'str' and 'str'",
     "output_type": "error",
     "traceback": [
      "\u001b[0;31m---------------------------------------------------------------------------\u001b[0m",
      "\u001b[0;31mTypeError\u001b[0m                                 Traceback (most recent call last)",
      "\u001b[0;32m<ipython-input-26-406b99d8af77>\u001b[0m in \u001b[0;36m<module>\u001b[0;34m\u001b[0m\n\u001b[0;32m----> 1\u001b[0;31m \u001b[0mprint\u001b[0m\u001b[0;34m(\u001b[0m\u001b[0mhw\u001b[0m \u001b[0;34m-\u001b[0m \u001b[0;34m'!'\u001b[0m\u001b[0;34m)\u001b[0m \u001b[0;31m#Error! unsupported operand type(s) for -: 'str' and 'str'\u001b[0m\u001b[0;34m\u001b[0m\u001b[0;34m\u001b[0m\u001b[0m\n\u001b[0m",
      "\u001b[0;31mTypeError\u001b[0m: unsupported operand type(s) for -: 'str' and 'str'"
     ]
    }
   ],
   "source": [
    "print(hw - '!') #Error! unsupported operand type(s) for -: 'str' and 'str'"
   ]
  },
  {
   "cell_type": "code",
   "execution_count": 29,
   "metadata": {},
   "outputs": [
    {
     "ename": "TypeError",
     "evalue": "can only concatenate str (not \"int\") to str",
     "output_type": "error",
     "traceback": [
      "\u001b[0;31m---------------------------------------------------------------------------\u001b[0m",
      "\u001b[0;31mTypeError\u001b[0m                                 Traceback (most recent call last)",
      "\u001b[0;32m<ipython-input-29-0acf62bc32c4>\u001b[0m in \u001b[0;36m<module>\u001b[0;34m\u001b[0m\n\u001b[0;32m----> 1\u001b[0;31m \u001b[0mprint\u001b[0m\u001b[0;34m(\u001b[0m\u001b[0;34m'I\\'m '\u001b[0m\u001b[0;34m+\u001b[0m\u001b[0mage\u001b[0m\u001b[0;34m+\u001b[0m\u001b[0;34m' years old.'\u001b[0m\u001b[0;34m)\u001b[0m \u001b[0;31m#TypeError: can only concatenate str (not \"int\") to str\u001b[0m\u001b[0;34m\u001b[0m\u001b[0;34m\u001b[0m\u001b[0m\n\u001b[0m",
      "\u001b[0;31mTypeError\u001b[0m: can only concatenate str (not \"int\") to str"
     ]
    }
   ],
   "source": [
    "print('I\\'m '+age+' years old.') #TypeError: can only concatenate str (not \"int\") to str"
   ]
  },
  {
   "cell_type": "code",
   "execution_count": 30,
   "metadata": {},
   "outputs": [
    {
     "name": "stdout",
     "output_type": "stream",
     "text": [
      "Robert Trypuz\n",
      "ROBERT TRYPUZ\n",
      "robert trypuz\n",
      "Robert Trypuz\n"
     ]
    }
   ],
   "source": [
    "print('robert trypuz'.title())\n",
    "print('robert trypuz'.upper())\n",
    "print('RoBert TrypUz'.lower())\n",
    "print('RoBert TrypUz'.lower().title())"
   ]
  },
  {
   "cell_type": "code",
   "execution_count": 31,
   "metadata": {},
   "outputs": [
    {
     "name": "stdout",
     "output_type": "stream",
     "text": [
      "Pink Floyd\n",
      "\tPink Floyd\n",
      "Pink\n",
      "Floyd\n",
      " Ummagumma\n",
      "Ummagumma \n",
      "Ummagumma\n"
     ]
    }
   ],
   "source": [
    "print('Pink Floyd')\n",
    "print('\\tPink Floyd') # \\t\n",
    "print('Pink\\nFloyd') # \\n\n",
    "\n",
    "print(' Ummagumma '.rstrip())\n",
    "print(' Ummagumma '.lstrip())\n",
    "print(' Ummagumma '.strip())"
   ]
  },
  {
   "cell_type": "markdown",
   "metadata": {},
   "source": [
    "# 5. Warunki - konstrukcja if"
   ]
  },
  {
   "cell_type": "code",
   "execution_count": 34,
   "metadata": {},
   "outputs": [
    {
     "name": "stdout",
     "output_type": "stream",
     "text": [
      "4 nie jest podzielne przez 3\n"
     ]
    }
   ],
   "source": [
    "n1 = 4\n",
    "n2 = 3\n",
    "\n",
    "if n1 % n2 == 0:\n",
    "   print(n1,\"jest podzielne przez\", n2)    \n",
    "else:\n",
    "   print(n1, \"nie jest podzielne przez\",n2)"
   ]
  },
  {
   "cell_type": "code",
   "execution_count": 33,
   "metadata": {},
   "outputs": [
    {
     "name": "stdout",
     "output_type": "stream",
     "text": [
      "4 nie jest podzielne przez 3\n"
     ]
    }
   ],
   "source": [
    "# z formatowaniem\n",
    "if n1 % n2 == 0:\n",
    "   print(\"%d jest podzielne przez %d\" % (n1,n2))    \n",
    "else:\n",
    "   print(\"{0:d} nie jest podzielne przez {1:d}\".format(n1,n2))"
   ]
  },
  {
   "cell_type": "code",
   "execution_count": 35,
   "metadata": {},
   "outputs": [
    {
     "name": "stdout",
     "output_type": "stream",
     "text": [
      "Zaliczone!\n"
     ]
    }
   ],
   "source": [
    "missed_classes = 2\n",
    "passed_tests = 3 # out of 4\n",
    "class_participation = True\n",
    "\n",
    "if missed_classes <=2 and passed_tests > 2 and class_participation:\n",
    "   print(\"Zaliczone!\")"
   ]
  },
  {
   "cell_type": "code",
   "execution_count": 37,
   "metadata": {},
   "outputs": [
    {
     "name": "stdout",
     "output_type": "stream",
     "text": [
      "Nie zaliczyles/as, bo nie chodziles/as\n"
     ]
    }
   ],
   "source": [
    "missed_classes = 3\n",
    "passed_tests = 3 # out of 4\n",
    "class_participation = True\n",
    "\n",
    "if missed_classes >2:\n",
    "   print(\"Nie zaliczyles/as, bo nie chodziles/as\")\n",
    "elif passed_tests <=2:         \n",
    "   print(\"Nie zaliczyles/as, bo nie zaliczyles/as min 3 testow!\")\n",
    "elif not class_participation: \n",
    "   print(\"Nie zaliczyles/as, bo nie byles/as aktywny/a!\")   \n",
    "else:\n",
    "   print(\"Zaliczone!\")"
   ]
  },
  {
   "cell_type": "code",
   "execution_count": 38,
   "metadata": {},
   "outputs": [],
   "source": [
    "i = 1\n",
    "if i == 1:\n",
    "   pass\n",
    "else:\n",
    "   pass "
   ]
  },
  {
   "cell_type": "markdown",
   "metadata": {},
   "source": [
    "# 6. Pętle"
   ]
  },
  {
   "cell_type": "markdown",
   "metadata": {},
   "source": [
    "## 6.1 Pętla while"
   ]
  },
  {
   "cell_type": "code",
   "execution_count": 39,
   "metadata": {},
   "outputs": [
    {
     "name": "stdout",
     "output_type": "stream",
     "text": [
      "1\n",
      "2\n",
      "3\n",
      "4\n",
      "5\n",
      "6\n",
      "7\n",
      "8\n",
      "9\n",
      "10\n",
      "Current i value: 11\n"
     ]
    }
   ],
   "source": [
    "i = 1 # zmienna regulacyjna\n",
    "while i <= 10:\n",
    "   print(i)\n",
    "   i += 1    # inkrementacja (dekrementacja)\n",
    "\n",
    "while i <= 10:\n",
    "   print(i)\n",
    "   i += 1\n",
    "else:\n",
    "   print(\"Current i value:\", i)"
   ]
  },
  {
   "cell_type": "code",
   "execution_count": 40,
   "metadata": {},
   "outputs": [
    {
     "name": "stdout",
     "output_type": "stream",
     "text": [
      "1\n",
      "2\n",
      "3\n",
      "4\n",
      "5\n"
     ]
    }
   ],
   "source": [
    "# break     \n",
    "i = 1\n",
    "while i <= 10:\n",
    "   if i > 5:\n",
    "       break\n",
    "   print(i)\n",
    "   i += 1 "
   ]
  },
  {
   "cell_type": "code",
   "execution_count": 41,
   "metadata": {},
   "outputs": [
    {
     "name": "stdout",
     "output_type": "stream",
     "text": [
      "1\n",
      "2\n",
      "3\n",
      "8\n",
      "9\n",
      "10\n"
     ]
    }
   ],
   "source": [
    "# continue\n",
    "i = 1\n",
    "while i <= 10:\n",
    "   if i >= 4 and i <= 7:\n",
    "       i += 1\n",
    "       continue\n",
    "   print(i)\n",
    "   i += 1"
   ]
  },
  {
   "cell_type": "code",
   "execution_count": 43,
   "metadata": {},
   "outputs": [
    {
     "name": "stdout",
     "output_type": "stream",
     "text": [
      "\n",
      "Choose what you want me to do for you:\n",
      "1 - COFFEE\n",
      "2 - TEA\n",
      "3 - MAKE ME SMILE\n",
      "---------------\n",
      "To stop this script select 0\n",
      "\n",
      "Enter your choice  0\n"
     ]
    }
   ],
   "source": [
    "# break and continue\n",
    "menu = '''\n",
    "Choose what you want me to do for you:\n",
    "1 - COFFEE\n",
    "2 - TEA\n",
    "3 - MAKE ME SMILE\n",
    "---------------\n",
    "To stop this script select 0\n",
    "'''\n",
    "\n",
    "while True:\n",
    "\n",
    "   print(menu)\n",
    "   letter = input('Enter your choice  ')\n",
    "\n",
    "   if letter == '1':\n",
    "       print(\"Function COFFEE not implemented\")\n",
    "       input('Press enter')\n",
    "       continue\n",
    "\n",
    "   if letter == '2':\n",
    "       print(\"Function TEA not implemented\")\n",
    "       input('Press enter')\n",
    "       continue\n",
    "\n",
    "   if letter =='3':\n",
    "       print(smile)\n",
    "       input('Press enter')        \n",
    "       continue\n",
    "\n",
    "   if letter == '0':\n",
    "       break\n",
    "\n",
    "   input('You need to make a valid choice. Press ENTER and try again!')"
   ]
  },
  {
   "cell_type": "markdown",
   "metadata": {},
   "source": [
    "## 6.2 Pętla for"
   ]
  },
  {
   "cell_type": "code",
   "execution_count": 45,
   "metadata": {},
   "outputs": [
    {
     "name": "stdout",
     "output_type": "stream",
     "text": [
      "0\n",
      "1\n",
      "2\n",
      "3\n",
      "4\n",
      "5\n",
      "6\n",
      "7\n",
      "8\n",
      "9\n"
     ]
    }
   ],
   "source": [
    "for i in range(10):\n",
    "   print(i)"
   ]
  },
  {
   "cell_type": "code",
   "execution_count": 46,
   "metadata": {},
   "outputs": [
    {
     "name": "stdout",
     "output_type": "stream",
     "text": [
      "5\n",
      "6\n",
      "7\n",
      "8\n",
      "9\n"
     ]
    }
   ],
   "source": [
    "for i in range(5,10):\n",
    "   print(i)    "
   ]
  },
  {
   "cell_type": "code",
   "execution_count": 48,
   "metadata": {},
   "outputs": [
    {
     "name": "stdout",
     "output_type": "stream",
     "text": [
      "5\n",
      "6\n",
      "5\n",
      "6\n",
      "5\n",
      "6\n"
     ]
    }
   ],
   "source": [
    "for i in range(3):\n",
    "   for j in range(5,7):\n",
    "       print(j)"
   ]
  },
  {
   "cell_type": "code",
   "execution_count": 49,
   "metadata": {},
   "outputs": [
    {
     "name": "stdout",
     "output_type": "stream",
     "text": [
      "dog\n",
      "cat\n",
      "weasel\n"
     ]
    }
   ],
   "source": [
    "# Lista\n",
    "animals = ['dog', 'cat', 'weasel']\n",
    "\n",
    "for animal in animals:\n",
    "   print(animal)"
   ]
  },
  {
   "cell_type": "code",
   "execution_count": 50,
   "metadata": {},
   "outputs": [
    {
     "name": "stdout",
     "output_type": "stream",
     "text": [
      "1\n",
      "2\n",
      "3\n",
      "8\n",
      "9\n",
      "10\n"
     ]
    }
   ],
   "source": [
    "# Continue  \n",
    "for i in range(1,11):\n",
    "   if i >= 4 and i <= 7:\n",
    "       continue\n",
    "   print(i)"
   ]
  },
  {
   "cell_type": "markdown",
   "metadata": {},
   "source": [
    "# 7. Listy"
   ]
  },
  {
   "cell_type": "markdown",
   "metadata": {},
   "source": [
    "Lista odcinków znajduje się tu: [pierwszego sezonu Doliny Krzemowej](https://en.wikipedia.org/wiki/List_of_Silicon_Valley_episodes#Season_1_(2014))."
   ]
  },
  {
   "cell_type": "code",
   "execution_count": 51,
   "metadata": {},
   "outputs": [
    {
     "name": "stdout",
     "output_type": "stream",
     "text": [
      "['Optimal Tip-to-Tip Efficiency', 'Third Party Insourcing', 'Signaling Risk', 'Fiduciary Duties', 'Articles of Incorporation', 'The Cap Table', 'Minimum Viable Product']\n"
     ]
    }
   ],
   "source": [
    "sv_sesson1 = ['Optimal Tip-to-Tip Efficiency', 'Third Party Insourcing','Signaling Risk',\n",
    "              'Fiduciary Duties', 'Articles of Incorporation','The Cap Table',\n",
    "              'Minimum Viable Product']   \n",
    "\n",
    "# print list\n",
    "print(sv_sesson1)  "
   ]
  },
  {
   "cell_type": "code",
   "execution_count": 52,
   "metadata": {},
   "outputs": [
    {
     "name": "stdout",
     "output_type": "stream",
     "text": [
      "Optimal Tip-to-Tip Efficiency\n"
     ]
    }
   ],
   "source": [
    "#print the first element of the list\n",
    "print(sv_sesson1[0])"
   ]
  },
  {
   "cell_type": "code",
   "execution_count": 53,
   "metadata": {},
   "outputs": [
    {
     "name": "stdout",
     "output_type": "stream",
     "text": [
      "Optimal Tip-to-Tip Efficiency\n",
      "Third Party Insourcing\n",
      "Signaling Risk\n",
      "Fiduciary Duties\n",
      "Articles of Incorporation\n",
      "The Cap Table\n",
      "Minimum Viable Product\n"
     ]
    }
   ],
   "source": [
    "# print all elements of the list\n",
    "for episode in sv_sesson1:\n",
    "    print(episode)"
   ]
  },
  {
   "cell_type": "code",
   "execution_count": 54,
   "metadata": {},
   "outputs": [
    {
     "name": "stdout",
     "output_type": "stream",
     "text": [
      "1. Optimal Tip-to-Tip Efficiency\n",
      "2. Third Party Insourcing\n",
      "3. Signaling Risk\n",
      "4. Fiduciary Duties\n",
      "5. Articles of Incorporation\n",
      "6. The Cap Table\n",
      "7. Minimum Viable Product\n"
     ]
    }
   ],
   "source": [
    "# print all elements of the list with numbers    \n",
    "i=1    \n",
    "for episode in sv_sesson1:\n",
    "    print(str(i)+'.',episode)\n",
    "    i+=1"
   ]
  },
  {
   "cell_type": "code",
   "execution_count": 55,
   "metadata": {},
   "outputs": [
    {
     "name": "stdout",
     "output_type": "stream",
     "text": [
      "1. Optimal Tip-to-Tip Efficiency\n",
      "2. Third Party Insourcing\n",
      "3. Signaling Risk\n",
      "4. Fiduciary Duties\n",
      "5. Articles of Incorporation\n",
      "6. The Cap Table\n",
      "7. Minimum Viable Product\n"
     ]
    }
   ],
   "source": [
    "for i in range(len(sv_sesson1)):\n",
    "    print(str(i+1)+'.',sv_sesson1[i])"
   ]
  },
  {
   "cell_type": "markdown",
   "metadata": {},
   "source": [
    "Lista sv_sesson1 po piersze jest odwrócona, a po drugie nie zawiera odcinka siódmego \"Proof of Concept\"."
   ]
  },
  {
   "cell_type": "code",
   "execution_count": 56,
   "metadata": {},
   "outputs": [
    {
     "name": "stdout",
     "output_type": "stream",
     "text": [
      "1. Minimum Viable Product\n",
      "2. The Cap Table\n",
      "3. Articles of Incorporation\n",
      "4. Fiduciary Duties\n",
      "5. Signaling Risk\n",
      "6. Third Party Insourcing\n",
      "7. Optimal Tip-to-Tip Efficiency\n"
     ]
    }
   ],
   "source": [
    "sv_sesson1.reverse()  \n",
    "\n",
    "for i in range(len(sv_sesson1)):\n",
    "    print(str(i+1)+'.',sv_sesson1[i]) "
   ]
  },
  {
   "cell_type": "code",
   "execution_count": 58,
   "metadata": {},
   "outputs": [
    {
     "name": "stdout",
     "output_type": "stream",
     "text": [
      "1. Minimum Viable Product\n",
      "2. The Cap Table\n",
      "3. Articles of Incorporation\n",
      "4. Fiduciary Duties\n",
      "5. Signaling Risk\n",
      "6. Third Party Insourcing\n",
      "7. Optimal Tip-to-Tip Efficiency\n",
      "8. Proof of Concept\n",
      "9. Proof of Concept\n"
     ]
    }
   ],
   "source": [
    "sv_sesson1.append('Proof of Concept')"
   ]
  },
  {
   "cell_type": "code",
   "execution_count": 62,
   "metadata": {},
   "outputs": [
    {
     "name": "stdout",
     "output_type": "stream",
     "text": [
      "1. Minimum Viable Product\n",
      "2. The Cap Table\n",
      "3. Articles of Incorporation\n",
      "4. Fiduciary Duties\n",
      "5. Signaling Risk\n",
      "6. Third Party Insourcing\n",
      "7. Optimal Tip-to-Tip Efficiency\n"
     ]
    }
   ],
   "source": [
    "for i in range(len(sv_sesson1)):\n",
    "    print(str(i+1)+'.',sv_sesson1[i]) "
   ]
  },
  {
   "cell_type": "code",
   "execution_count": 61,
   "metadata": {},
   "outputs": [],
   "source": [
    "sv_sesson1.remove('Proof of Concept')"
   ]
  },
  {
   "cell_type": "markdown",
   "metadata": {},
   "source": [
    "To polecenie \n",
    "- sv_sesson1[6] = 'Proof of Concept'\n",
    "\n",
    "nie doda nazwy odcinka 'Proof of Concept' na miejscu 7 i nie przesunie odcinka statniego, tylko zastąpi aktualną pozycję 7."
   ]
  },
  {
   "cell_type": "code",
   "execution_count": 63,
   "metadata": {},
   "outputs": [],
   "source": [
    "sv_sesson1.insert(6,'Proof of Concept')"
   ]
  },
  {
   "cell_type": "code",
   "execution_count": 67,
   "metadata": {},
   "outputs": [
    {
     "name": "stdout",
     "output_type": "stream",
     "text": [
      "1. Minimum Viable Product\n",
      "2. The Cap Table\n",
      "3. Articles of Incorporation\n",
      "4. Fiduciary Duties\n",
      "5. Signaling Risk\n",
      "6. Third Party Insourcing\n",
      "7. Proof of Concept\n",
      "8. Proof of Concept\n",
      "9. Optimal Tip-to-Tip Efficiency\n"
     ]
    }
   ],
   "source": [
    "for i in range(len(sv_sesson1)):\n",
    "    print(str(i+1)+'.',sv_sesson1[i])  "
   ]
  },
  {
   "cell_type": "code",
   "execution_count": 94,
   "metadata": {},
   "outputs": [],
   "source": [
    "sv_sesson1.insert(6,'Proof of Concept')\n",
    "sv_sesson1.insert(6,'Proof of Concept')"
   ]
  },
  {
   "cell_type": "code",
   "execution_count": 87,
   "metadata": {},
   "outputs": [
    {
     "name": "stdout",
     "output_type": "stream",
     "text": [
      "1. Minimum Viable Product\n",
      "2. The Cap Table\n",
      "3. Articles of Incorporation\n",
      "4. Fiduciary Duties\n",
      "5. Signaling Risk\n",
      "6. Third Party Insourcing\n",
      "7. Proof of Concept\n",
      "8. Proof of Concept\n",
      "9. Proof of Concept\n",
      "10. Optimal Tip-to-Tip Efficiency\n"
     ]
    }
   ],
   "source": [
    "for i in range(len(sv_sesson1)):\n",
    "    print(str(i+1)+'.',sv_sesson1[i]) "
   ]
  },
  {
   "cell_type": "markdown",
   "metadata": {},
   "source": [
    "Jeśli przez pomyłkę dodamy kilka razy 'Proof of Concept' do listy odcinków możemy to sprawdzić jak wiele ich jest i gdzie są zlokalizowane dzięki tym poleceniom:"
   ]
  },
  {
   "cell_type": "code",
   "execution_count": 88,
   "metadata": {},
   "outputs": [
    {
     "name": "stdout",
     "output_type": "stream",
     "text": [
      "3\n",
      "6\n"
     ]
    }
   ],
   "source": [
    "print(sv_sesson1.count('Proof of Concept'))\n",
    "\n",
    "# the first index of an element\n",
    "print(sv_sesson1.index('Proof of Concept'))"
   ]
  },
  {
   "cell_type": "code",
   "execution_count": 89,
   "metadata": {},
   "outputs": [
    {
     "data": {
      "text/plain": [
       "'Proof of Concept'"
      ]
     },
     "execution_count": 89,
     "metadata": {},
     "output_type": "execute_result"
    }
   ],
   "source": [
    "sv_sesson1.pop(6)"
   ]
  },
  {
   "cell_type": "code",
   "execution_count": 95,
   "metadata": {},
   "outputs": [
    {
     "name": "stdout",
     "output_type": "stream",
     "text": [
      "1. Minimum Viable Product\n",
      "2. The Cap Table\n",
      "3. Articles of Incorporation\n",
      "4. Fiduciary Duties\n",
      "5. Signaling Risk\n",
      "6. Third Party Insourcing\n",
      "7. Proof of Concept\n",
      "8. Proof of Concept\n",
      "9. Optimal Tip-to-Tip Efficiency\n"
     ]
    }
   ],
   "source": [
    "for i in range(len(sv_sesson1)):\n",
    "    print(str(i+1)+'.',sv_sesson1[i]) "
   ]
  },
  {
   "cell_type": "code",
   "execution_count": 96,
   "metadata": {},
   "outputs": [
    {
     "name": "stdout",
     "output_type": "stream",
     "text": [
      "1. Minimum Viable Product\n",
      "2. The Cap Table\n",
      "3. Articles of Incorporation\n",
      "4. Fiduciary Duties\n",
      "5. Signaling Risk\n",
      "6. Third Party Insourcing\n",
      "7. Proof of Concept\n",
      "8. Optimal Tip-to-Tip Efficiency\n"
     ]
    }
   ],
   "source": [
    "del sv_sesson1[6]\n",
    "\n",
    "for i in range(len(sv_sesson1)):\n",
    "    print(str(i+1)+'.',sv_sesson1[i]) "
   ]
  },
  {
   "cell_type": "code",
   "execution_count": 97,
   "metadata": {},
   "outputs": [
    {
     "name": "stdout",
     "output_type": "stream",
     "text": [
      "1. Minimum Viable Product\n",
      "2. The Cap Table\n",
      "3. Articles of Incorporation\n",
      "4. Fiduciary Duties\n",
      "5. Signaling Risk\n",
      "6. Third Party Insourcing\n",
      "7. Proof of Concept\n",
      "8. Optimal Tip-to-Tip Efficiency\n",
      "9. Sand Hill Shuffle\n",
      "10. Runaway Devaluation\n",
      "11. Bad Money\n",
      "12. The Lady\n",
      "13. Server Space\n",
      "14. Homicide\n",
      "15. Adult Content\n",
      "16. White Hat Black Hat\n",
      "17. Binding Arbitration\n",
      "18. Two Days of The Condor\n"
     ]
    }
   ],
   "source": [
    "sv_sesson2 = ['Sand Hill Shuffle','Runaway Devaluation','Bad Money',\n",
    "              'The Lady','Server Space','Homicide','Adult Content',\n",
    "              'White Hat Black Hat','Binding Arbitration',\n",
    "              'Two Days of The Condor'] \n",
    "              \n",
    "# sv_sesson1.extend(sv_sesson2) # Wrong!\n",
    "\n",
    "sv_two_first_sessons = sv_sesson1 + sv_sesson2 \n",
    "\n",
    "for i in range(len(sv_two_first_sessons)):\n",
    "    print(str(i+1)+'.',sv_two_first_sessons[i]) "
   ]
  },
  {
   "cell_type": "markdown",
   "metadata": {},
   "source": [
    "## List comprihension"
   ]
  },
  {
   "cell_type": "code",
   "execution_count": 99,
   "metadata": {},
   "outputs": [
    {
     "name": "stdout",
     "output_type": "stream",
     "text": [
      "[1, 2, 3, 4, 5, 6, 7, 8, 9, 10]\n"
     ]
    }
   ],
   "source": [
    "# List comprehension in Python\n",
    "\n",
    "numbers = [1,2,3,4,5,6,7,8,9,10]\n",
    "\n",
    "# Copying using a loop\n",
    "newNumbers = []\n",
    "for number in numbers:\n",
    "    newNumbers.append(number)\n",
    "\n",
    "print(newNumbers)"
   ]
  },
  {
   "cell_type": "code",
   "execution_count": 100,
   "metadata": {},
   "outputs": [
    {
     "name": "stdout",
     "output_type": "stream",
     "text": [
      "[1, 2, 3, 4, 5, 6, 7, 8, 9, 10]\n"
     ]
    }
   ],
   "source": [
    "# Copying using list comprehension\n",
    "newNumbers = [number for number in numbers]\n",
    "print(newNumbers)"
   ]
  },
  {
   "cell_type": "code",
   "execution_count": 101,
   "metadata": {},
   "outputs": [
    {
     "name": "stdout",
     "output_type": "stream",
     "text": [
      "[1, 2, 3, 4, 5]\n"
     ]
    }
   ],
   "source": [
    "# Copying and filtering based on condition\n",
    "newNumbers = [number for number in numbers if number <= 5]\n",
    "print(newNumbers)"
   ]
  },
  {
   "cell_type": "code",
   "execution_count": 102,
   "metadata": {},
   "outputs": [
    {
     "name": "stdout",
     "output_type": "stream",
     "text": [
      "[2, 4, 6, 8, 10]\n"
     ]
    }
   ],
   "source": [
    "# Copying and filtering based on another list\n",
    "numbers2 = [1,3,5,7,9]\n",
    "newNumbers = [number for number in numbers if number not in numbers2]\n",
    "print(newNumbers)"
   ]
  },
  {
   "cell_type": "code",
   "execution_count": 103,
   "metadata": {},
   "outputs": [
    {
     "name": "stdout",
     "output_type": "stream",
     "text": [
      "[2, 4, 6, 8, 10, 12, 14, 16, 18, 20]\n"
     ]
    }
   ],
   "source": [
    "# Some more examples\n",
    "newNumbers = [number*2 for number in numbers]\n",
    "print(newNumbers)"
   ]
  },
  {
   "cell_type": "code",
   "execution_count": 104,
   "metadata": {},
   "outputs": [
    {
     "name": "stdout",
     "output_type": "stream",
     "text": [
      "[1, 3, 5, 7, 9]\n"
     ]
    }
   ],
   "source": [
    "# Some more examples\n",
    "newNumbers = [number for number in numbers if number%2 == 1]\n",
    "print(newNumbers)"
   ]
  },
  {
   "cell_type": "code",
   "execution_count": 108,
   "metadata": {},
   "outputs": [
    {
     "name": "stdout",
     "output_type": "stream",
     "text": [
      "<generator object <genexpr> at 0x1a18cc2ad0>\n"
     ]
    },
    {
     "data": {
      "text/plain": [
       "[1, 4, 9, 16, 25, 36, 49, 64, 81, 100]"
      ]
     },
     "execution_count": 108,
     "metadata": {},
     "output_type": "execute_result"
    }
   ],
   "source": [
    "# Generator Comprehension\n",
    "squareGen = (number**2 for number in numbers)\n",
    "print(squareGen)\n",
    "list(squareGen)"
   ]
  },
  {
   "cell_type": "markdown",
   "metadata": {},
   "source": [
    "## join()"
   ]
  },
  {
   "cell_type": "code",
   "execution_count": 109,
   "metadata": {},
   "outputs": [
    {
     "name": "stdout",
     "output_type": "stream",
     "text": [
      "I love my dog .\n",
      "I-love-my-dog-.\n"
     ]
    }
   ],
   "source": [
    "# Joining list of words\n",
    "words = [\"I\",\"love\",\"my\",\"dog\",\".\"]\n",
    "\n",
    "sentence = ' '.join(words)\n",
    "print(sentence)\n",
    "\n",
    "sentence = '-'.join(words)\n",
    "print(sentence)"
   ]
  },
  {
   "cell_type": "markdown",
   "metadata": {},
   "source": [
    "# 8. Krotki"
   ]
  },
  {
   "cell_type": "code",
   "execution_count": 111,
   "metadata": {},
   "outputs": [
    {
     "name": "stdout",
     "output_type": "stream",
     "text": [
      "130\n",
      "3\n"
     ]
    }
   ],
   "source": [
    "krzysztof_piekarz = (185,92,130)\n",
    "radoslaw_slodkiewicz = (180,113,140)\n",
    "\n",
    "print(krzysztof_piekarz[2])\n",
    "print(len(krzysztof_piekarz))"
   ]
  },
  {
   "cell_type": "code",
   "execution_count": 113,
   "metadata": {},
   "outputs": [
    {
     "name": "stdout",
     "output_type": "stream",
     "text": [
      "('Sand Hill Shuffle', 'Runaway Devaluation', 'Bad Money', 'The Lady', 'Server Space', 'Homicide', 'Adult Content', 'White Hat Black Hat', 'Binding Arbitration', 'Two Days of The Condor')\n"
     ]
    }
   ],
   "source": [
    "my_tuple = tuple(sv_sesson2)\n",
    "print(my_tuple)"
   ]
  },
  {
   "cell_type": "code",
   "execution_count": 114,
   "metadata": {},
   "outputs": [
    {
     "data": {
      "text/plain": [
       "['Sand Hill Shuffle',\n",
       " 'Runaway Devaluation',\n",
       " 'Bad Money',\n",
       " 'The Lady',\n",
       " 'Server Space',\n",
       " 'Homicide',\n",
       " 'Adult Content',\n",
       " 'White Hat Black Hat',\n",
       " 'Binding Arbitration',\n",
       " 'Two Days of The Condor']"
      ]
     },
     "execution_count": 114,
     "metadata": {},
     "output_type": "execute_result"
    }
   ],
   "source": [
    "list(my_tuple)"
   ]
  },
  {
   "cell_type": "markdown",
   "metadata": {},
   "source": [
    "# 9. Słowniki"
   ]
  },
  {
   "cell_type": "code",
   "execution_count": 115,
   "metadata": {},
   "outputs": [
    {
     "name": "stdout",
     "output_type": "stream",
     "text": [
      "{'mama': 'mother', 'tata': 'father', 'córka': 'daughter', 'syn': 'son'}\n"
     ]
    }
   ],
   "source": [
    "slownik = {}\n",
    "\n",
    "slownik['mama'] = 'mother'\n",
    "slownik['tata'] = 'father'\n",
    "slownik['córka'] = 'daughter'\n",
    "slownik['syn'] = 'son'\n",
    "\n",
    "print(slownik)"
   ]
  },
  {
   "cell_type": "code",
   "execution_count": 116,
   "metadata": {},
   "outputs": [
    {
     "name": "stdout",
     "output_type": "stream",
     "text": [
      "4\n",
      "mother\n"
     ]
    }
   ],
   "source": [
    "print(len(slownik))\n",
    "\n",
    "print(slownik['mama'])"
   ]
  },
  {
   "cell_type": "code",
   "execution_count": 118,
   "metadata": {},
   "outputs": [
    {
     "name": "stdout",
     "output_type": "stream",
     "text": [
      "mama\n",
      "tata\n",
      "córka\n",
      "syn\n"
     ]
    }
   ],
   "source": [
    "for key in slownik.keys():\n",
    "    print(key)"
   ]
  },
  {
   "cell_type": "code",
   "execution_count": 119,
   "metadata": {},
   "outputs": [
    {
     "name": "stdout",
     "output_type": "stream",
     "text": [
      "mother\n",
      "father\n",
      "daughter\n",
      "son\n"
     ]
    }
   ],
   "source": [
    "for value in slownik.values():\n",
    "    print(value)    "
   ]
  },
  {
   "cell_type": "code",
   "execution_count": 120,
   "metadata": {},
   "outputs": [
    {
     "name": "stdout",
     "output_type": "stream",
     "text": [
      "mother\n",
      "father\n",
      "daughter\n",
      "son\n"
     ]
    }
   ],
   "source": [
    "for key in slownik.keys():\n",
    "    print(slownik[key])"
   ]
  },
  {
   "cell_type": "code",
   "execution_count": 121,
   "metadata": {},
   "outputs": [
    {
     "name": "stdout",
     "output_type": "stream",
     "text": [
      "None\n"
     ]
    }
   ],
   "source": [
    "print(slownik.get('wnuk'))"
   ]
  },
  {
   "cell_type": "code",
   "execution_count": 122,
   "metadata": {},
   "outputs": [
    {
     "name": "stdout",
     "output_type": "stream",
     "text": [
      "nie ma takiego w słowniku\n"
     ]
    }
   ],
   "source": [
    "print(slownik.get('wnuk','Nie ma takiego w słowniku.'))"
   ]
  },
  {
   "cell_type": "code",
   "execution_count": 124,
   "metadata": {},
   "outputs": [
    {
     "name": "stdout",
     "output_type": "stream",
     "text": [
      "{'mama': 'mom', 'tata': 'father', 'córka': 'daughter', 'syn': 'son', 'wnuk': 'grandson'}\n"
     ]
    }
   ],
   "source": [
    "slownik.update({'mama':'mom','wnuk':'grandson'})\n",
    "print(slownik)"
   ]
  },
  {
   "cell_type": "code",
   "execution_count": 125,
   "metadata": {},
   "outputs": [
    {
     "name": "stdout",
     "output_type": "stream",
     "text": [
      "{'mama': 'mom', 'tata': 'father', 'córka': 'daughter', 'syn': 'son'}\n"
     ]
    }
   ],
   "source": [
    "slownik.pop('wnuk')\n",
    "print(slownik)"
   ]
  },
  {
   "cell_type": "code",
   "execution_count": 127,
   "metadata": {},
   "outputs": [
    {
     "name": "stdout",
     "output_type": "stream",
     "text": [
      "{'mama': 'mom', 'tata': 'father', 'córka': 'daughter'}\n"
     ]
    }
   ],
   "source": [
    "del slownik['syn']\n",
    "print(slownik)"
   ]
  },
  {
   "cell_type": "markdown",
   "metadata": {},
   "source": [
    "## 9.1 Dictionary Comprehension"
   ]
  },
  {
   "cell_type": "code",
   "execution_count": 128,
   "metadata": {},
   "outputs": [
    {
     "name": "stdout",
     "output_type": "stream",
     "text": [
      "{'apple': 1, 'orange': 4, 'banana': 10}\n"
     ]
    }
   ],
   "source": [
    "myDict = {\"apple\":1,\"orange\":4,\"banana\":10}\n",
    "print(myDict)"
   ]
  },
  {
   "cell_type": "code",
   "execution_count": 137,
   "metadata": {},
   "outputs": [
    {
     "name": "stdout",
     "output_type": "stream",
     "text": [
      "dict_keys(['apple', 'orange', 'banana'])\n",
      "{'apple': 1, 'orange': 4, 'banana': 10}\n"
     ]
    }
   ],
   "source": [
    "print(myDict.keys())\n",
    "\n",
    "newDict = {key:myDict[key] for key in myDict.keys()}\n",
    "\n",
    "print(newDict)"
   ]
  },
  {
   "cell_type": "code",
   "execution_count": 143,
   "metadata": {},
   "outputs": [
    {
     "name": "stdout",
     "output_type": "stream",
     "text": [
      "{'banana': 10}\n"
     ]
    }
   ],
   "source": [
    "newDict = {key:myDict[key] for key in myDict.keys() if myDict[key] > 5}\n",
    "print(newDict)"
   ]
  },
  {
   "cell_type": "markdown",
   "metadata": {},
   "source": [
    "# 10. I/O i czytanie pliku"
   ]
  },
  {
   "cell_type": "code",
   "execution_count": 144,
   "metadata": {},
   "outputs": [
    {
     "name": "stdout",
     "output_type": "stream",
     "text": [
      "Give the first number: 1\n",
      "Give the second number: 2\n",
      "The sum of the numbers you entered is: 3\n"
     ]
    }
   ],
   "source": [
    "# I/O\n",
    "inp = input('Give the first number: ')\n",
    "number1 = int(inp)\n",
    "\n",
    "inp = input('Give the second number: ')\n",
    "number2 = int(inp)\n",
    "\n",
    "print('The sum of the numbers you entered is:',number1+number2)"
   ]
  },
  {
   "cell_type": "code",
   "execution_count": 159,
   "metadata": {},
   "outputs": [
    {
     "name": "stdout",
     "output_type": "stream",
     "text": [
      "Help on built-in function open in module io:\n",
      "\n",
      "open(file, mode='r', buffering=-1, encoding=None, errors=None, newline=None, closefd=True, opener=None)\n",
      "    Open file and return a stream.  Raise OSError upon failure.\n",
      "    \n",
      "    file is either a text or byte string giving the name (and the path\n",
      "    if the file isn't in the current working directory) of the file to\n",
      "    be opened or an integer file descriptor of the file to be\n",
      "    wrapped. (If a file descriptor is given, it is closed when the\n",
      "    returned I/O object is closed, unless closefd is set to False.)\n",
      "    \n",
      "    mode is an optional string that specifies the mode in which the file\n",
      "    is opened. It defaults to 'r' which means open for reading in text\n",
      "    mode.  Other common values are 'w' for writing (truncating the file if\n",
      "    it already exists), 'x' for creating and writing to a new file, and\n",
      "    'a' for appending (which on some Unix systems, means that all writes\n",
      "    append to the end of the file regardless of the current seek position).\n",
      "    In text mode, if encoding is not specified the encoding used is platform\n",
      "    dependent: locale.getpreferredencoding(False) is called to get the\n",
      "    current locale encoding. (For reading and writing raw bytes use binary\n",
      "    mode and leave encoding unspecified.) The available modes are:\n",
      "    \n",
      "    ========= ===============================================================\n",
      "    Character Meaning\n",
      "    --------- ---------------------------------------------------------------\n",
      "    'r'       open for reading (default)\n",
      "    'w'       open for writing, truncating the file first\n",
      "    'x'       create a new file and open it for writing\n",
      "    'a'       open for writing, appending to the end of the file if it exists\n",
      "    'b'       binary mode\n",
      "    't'       text mode (default)\n",
      "    '+'       open a disk file for updating (reading and writing)\n",
      "    'U'       universal newline mode (deprecated)\n",
      "    ========= ===============================================================\n",
      "    \n",
      "    The default mode is 'rt' (open for reading text). For binary random\n",
      "    access, the mode 'w+b' opens and truncates the file to 0 bytes, while\n",
      "    'r+b' opens the file without truncation. The 'x' mode implies 'w' and\n",
      "    raises an `FileExistsError` if the file already exists.\n",
      "    \n",
      "    Python distinguishes between files opened in binary and text modes,\n",
      "    even when the underlying operating system doesn't. Files opened in\n",
      "    binary mode (appending 'b' to the mode argument) return contents as\n",
      "    bytes objects without any decoding. In text mode (the default, or when\n",
      "    't' is appended to the mode argument), the contents of the file are\n",
      "    returned as strings, the bytes having been first decoded using a\n",
      "    platform-dependent encoding or using the specified encoding if given.\n",
      "    \n",
      "    'U' mode is deprecated and will raise an exception in future versions\n",
      "    of Python.  It has no effect in Python 3.  Use newline to control\n",
      "    universal newlines mode.\n",
      "    \n",
      "    buffering is an optional integer used to set the buffering policy.\n",
      "    Pass 0 to switch buffering off (only allowed in binary mode), 1 to select\n",
      "    line buffering (only usable in text mode), and an integer > 1 to indicate\n",
      "    the size of a fixed-size chunk buffer.  When no buffering argument is\n",
      "    given, the default buffering policy works as follows:\n",
      "    \n",
      "    * Binary files are buffered in fixed-size chunks; the size of the buffer\n",
      "      is chosen using a heuristic trying to determine the underlying device's\n",
      "      \"block size\" and falling back on `io.DEFAULT_BUFFER_SIZE`.\n",
      "      On many systems, the buffer will typically be 4096 or 8192 bytes long.\n",
      "    \n",
      "    * \"Interactive\" text files (files for which isatty() returns True)\n",
      "      use line buffering.  Other text files use the policy described above\n",
      "      for binary files.\n",
      "    \n",
      "    encoding is the name of the encoding used to decode or encode the\n",
      "    file. This should only be used in text mode. The default encoding is\n",
      "    platform dependent, but any encoding supported by Python can be\n",
      "    passed.  See the codecs module for the list of supported encodings.\n",
      "    \n",
      "    errors is an optional string that specifies how encoding errors are to\n",
      "    be handled---this argument should not be used in binary mode. Pass\n",
      "    'strict' to raise a ValueError exception if there is an encoding error\n",
      "    (the default of None has the same effect), or pass 'ignore' to ignore\n",
      "    errors. (Note that ignoring encoding errors can lead to data loss.)\n",
      "    See the documentation for codecs.register or run 'help(codecs.Codec)'\n",
      "    for a list of the permitted encoding error strings.\n",
      "    \n",
      "    newline controls how universal newlines works (it only applies to text\n",
      "    mode). It can be None, '', '\\n', '\\r', and '\\r\\n'.  It works as\n",
      "    follows:\n",
      "    \n",
      "    * On input, if newline is None, universal newlines mode is\n",
      "      enabled. Lines in the input can end in '\\n', '\\r', or '\\r\\n', and\n",
      "      these are translated into '\\n' before being returned to the\n",
      "      caller. If it is '', universal newline mode is enabled, but line\n",
      "      endings are returned to the caller untranslated. If it has any of\n",
      "      the other legal values, input lines are only terminated by the given\n",
      "      string, and the line ending is returned to the caller untranslated.\n",
      "    \n",
      "    * On output, if newline is None, any '\\n' characters written are\n",
      "      translated to the system default line separator, os.linesep. If\n",
      "      newline is '' or '\\n', no translation takes place. If newline is any\n",
      "      of the other legal values, any '\\n' characters written are translated\n",
      "      to the given string.\n",
      "    \n",
      "    If closefd is False, the underlying file descriptor will be kept open\n",
      "    when the file is closed. This does not work when a file name is given\n",
      "    and must be True in that case.\n",
      "    \n",
      "    A custom opener can be used by passing a callable as *opener*. The\n",
      "    underlying file descriptor for the file object is then obtained by\n",
      "    calling *opener* with (*file*, *flags*). *opener* must return an open\n",
      "    file descriptor (passing os.open as *opener* results in functionality\n",
      "    similar to passing None).\n",
      "    \n",
      "    open() returns a file object whose type depends on the mode, and\n",
      "    through which the standard file operations such as reading and writing\n",
      "    are performed. When open() is used to open a file in a text mode ('w',\n",
      "    'r', 'wt', 'rt', etc.), it returns a TextIOWrapper. When used to open\n",
      "    a file in a binary mode, the returned class varies: in read binary\n",
      "    mode, it returns a BufferedReader; in write binary and append binary\n",
      "    modes, it returns a BufferedWriter, and in read/write mode, it returns\n",
      "    a BufferedRandom.\n",
      "    \n",
      "    It is also possible to use a string or bytearray as a file for both\n",
      "    reading and writing. For strings StringIO can be used like a file\n",
      "    opened in a text mode, and for bytes a BytesIO can be used like a file\n",
      "    opened in a binary mode.\n",
      "\n"
     ]
    }
   ],
   "source": [
    "help(open)"
   ]
  },
  {
   "cell_type": "code",
   "execution_count": 164,
   "metadata": {},
   "outputs": [
    {
     "name": "stdout",
     "output_type": "stream",
     "text": [
      "Your text: Moje zdanie.\n"
     ]
    }
   ],
   "source": [
    "inp = input('Your text: ')\n",
    "\n",
    "with open('moj_plik.txt','w') as f:\n",
    "    f.write(inp)"
   ]
  },
  {
   "cell_type": "code",
   "execution_count": 166,
   "metadata": {},
   "outputs": [
    {
     "name": "stdout",
     "output_type": "stream",
     "text": [
      "You have written: \"Moje zdanie.\"\n",
      "\n"
     ]
    }
   ],
   "source": [
    "# Reading from a file    \n",
    "with open('moj_plik.txt','r') as f:\n",
    "    string = f.read()\n",
    "    print('You have written:',\"\\\"\"+string+\"\\\"\\n\")"
   ]
  },
  {
   "cell_type": "code",
   "execution_count": 167,
   "metadata": {},
   "outputs": [
    {
     "name": "stdout",
     "output_type": "stream",
     "text": [
      "Moje zdanie.\n"
     ]
    }
   ],
   "source": [
    "# Reading from a file    \n",
    "with open('moj_plik.txt','r') as f:\n",
    "    for line in f:\n",
    "        print(line)"
   ]
  },
  {
   "cell_type": "markdown",
   "metadata": {},
   "source": [
    "## os"
   ]
  },
  {
   "cell_type": "code",
   "execution_count": 169,
   "metadata": {},
   "outputs": [
    {
     "name": "stdout",
     "output_type": "stream",
     "text": [
      "/Users/robert.trypuz/Documents/python crash course\n"
     ]
    }
   ],
   "source": [
    "import os\n",
    "print(os.getcwd())"
   ]
  },
  {
   "cell_type": "code",
   "execution_count": 170,
   "metadata": {},
   "outputs": [
    {
     "name": "stdout",
     "output_type": "stream",
     "text": [
      "/Users/robert.trypuz/Documents/python crash course/moj_plik.txt\n"
     ]
    }
   ],
   "source": [
    "file = os.path.join(os.getcwd(),'moj_plik.txt')\n",
    "print(file)"
   ]
  },
  {
   "cell_type": "code",
   "execution_count": 171,
   "metadata": {},
   "outputs": [
    {
     "data": {
      "text/plain": [
       "'/Users/robert.trypuz/Documents/python crash course/moj_plik.txt'"
      ]
     },
     "execution_count": 171,
     "metadata": {},
     "output_type": "execute_result"
    }
   ],
   "source": [
    "os.path.abspath('moj_plik.txt')"
   ]
  },
  {
   "cell_type": "code",
   "execution_count": 172,
   "metadata": {},
   "outputs": [
    {
     "name": "stdout",
     "output_type": "stream",
     "text": [
      "moj_plik.txt\n",
      "/Users/robert.trypuz/Documents/python crash course\n",
      "True\n"
     ]
    }
   ],
   "source": [
    "print(os.path.basename(file))\n",
    "print(os.path.dirname(file))\n",
    "print(os.path.exists(file))"
   ]
  },
  {
   "cell_type": "markdown",
   "metadata": {},
   "source": [
    "# 11. Funkcje"
   ]
  },
  {
   "cell_type": "code",
   "execution_count": 173,
   "metadata": {},
   "outputs": [],
   "source": [
    "def tea_please():\n",
    "    tea = r'''\n",
    "        (  )   (   )  )\n",
    "     ) (   )  (  (\n",
    "     ( )  (    ) )\n",
    "     _____________\n",
    "    <_____________> ___\n",
    "    |             |/ _ \\\n",
    "    |               | | |\n",
    "    |               |_| |\n",
    " ___|             |\\___/\n",
    "/    \\___________/    \\\n",
    "\\_____________________/\n",
    "    \n",
    "    '''\n",
    "    print(tea)\n",
    "    return"
   ]
  },
  {
   "cell_type": "code",
   "execution_count": 174,
   "metadata": {},
   "outputs": [
    {
     "name": "stdout",
     "output_type": "stream",
     "text": [
      "\n",
      "        (  )   (   )  )\n",
      "     ) (   )  (  (\n",
      "     ( )  (    ) )\n",
      "     _____________\n",
      "    <_____________> ___\n",
      "    |             |/ _ \\\n",
      "    |               | | |\n",
      "    |               |_| |\n",
      " ___|             |\\___/\n",
      "/    \\___________/    \\\n",
      "\\_____________________/\n",
      "    \n",
      "    \n"
     ]
    }
   ],
   "source": [
    "tea_please()"
   ]
  },
  {
   "cell_type": "code",
   "execution_count": 175,
   "metadata": {},
   "outputs": [],
   "source": [
    "def tree_tea_please():\n",
    "    for i in range(3):\n",
    "        tea_please()\n",
    "    return"
   ]
  },
  {
   "cell_type": "code",
   "execution_count": 176,
   "metadata": {},
   "outputs": [
    {
     "name": "stdout",
     "output_type": "stream",
     "text": [
      "\n",
      "        (  )   (   )  )\n",
      "     ) (   )  (  (\n",
      "     ( )  (    ) )\n",
      "     _____________\n",
      "    <_____________> ___\n",
      "    |             |/ _ \\\n",
      "    |               | | |\n",
      "    |               |_| |\n",
      " ___|             |\\___/\n",
      "/    \\___________/    \\\n",
      "\\_____________________/\n",
      "    \n",
      "    \n",
      "\n",
      "        (  )   (   )  )\n",
      "     ) (   )  (  (\n",
      "     ( )  (    ) )\n",
      "     _____________\n",
      "    <_____________> ___\n",
      "    |             |/ _ \\\n",
      "    |               | | |\n",
      "    |               |_| |\n",
      " ___|             |\\___/\n",
      "/    \\___________/    \\\n",
      "\\_____________________/\n",
      "    \n",
      "    \n",
      "\n",
      "        (  )   (   )  )\n",
      "     ) (   )  (  (\n",
      "     ( )  (    ) )\n",
      "     _____________\n",
      "    <_____________> ___\n",
      "    |             |/ _ \\\n",
      "    |               | | |\n",
      "    |               |_| |\n",
      " ___|             |\\___/\n",
      "/    \\___________/    \\\n",
      "\\_____________________/\n",
      "    \n",
      "    \n"
     ]
    }
   ],
   "source": [
    "tree_tea_please()"
   ]
  },
  {
   "cell_type": "code",
   "execution_count": 177,
   "metadata": {},
   "outputs": [],
   "source": [
    "def n_tea_please(number = 1):\n",
    "    for i in range(number):\n",
    "        tea_please()\n",
    "    return"
   ]
  },
  {
   "cell_type": "code",
   "execution_count": 178,
   "metadata": {},
   "outputs": [
    {
     "name": "stdout",
     "output_type": "stream",
     "text": [
      "\n",
      "        (  )   (   )  )\n",
      "     ) (   )  (  (\n",
      "     ( )  (    ) )\n",
      "     _____________\n",
      "    <_____________> ___\n",
      "    |             |/ _ \\\n",
      "    |               | | |\n",
      "    |               |_| |\n",
      " ___|             |\\___/\n",
      "/    \\___________/    \\\n",
      "\\_____________________/\n",
      "    \n",
      "    \n"
     ]
    }
   ],
   "source": [
    "n_tea_please()"
   ]
  },
  {
   "cell_type": "code",
   "execution_count": 179,
   "metadata": {},
   "outputs": [
    {
     "name": "stdout",
     "output_type": "stream",
     "text": [
      "\n",
      "        (  )   (   )  )\n",
      "     ) (   )  (  (\n",
      "     ( )  (    ) )\n",
      "     _____________\n",
      "    <_____________> ___\n",
      "    |             |/ _ \\\n",
      "    |               | | |\n",
      "    |               |_| |\n",
      " ___|             |\\___/\n",
      "/    \\___________/    \\\n",
      "\\_____________________/\n",
      "    \n",
      "    \n",
      "\n",
      "        (  )   (   )  )\n",
      "     ) (   )  (  (\n",
      "     ( )  (    ) )\n",
      "     _____________\n",
      "    <_____________> ___\n",
      "    |             |/ _ \\\n",
      "    |               | | |\n",
      "    |               |_| |\n",
      " ___|             |\\___/\n",
      "/    \\___________/    \\\n",
      "\\_____________________/\n",
      "    \n",
      "    \n",
      "\n",
      "        (  )   (   )  )\n",
      "     ) (   )  (  (\n",
      "     ( )  (    ) )\n",
      "     _____________\n",
      "    <_____________> ___\n",
      "    |             |/ _ \\\n",
      "    |               | | |\n",
      "    |               |_| |\n",
      " ___|             |\\___/\n",
      "/    \\___________/    \\\n",
      "\\_____________________/\n",
      "    \n",
      "    \n",
      "\n",
      "        (  )   (   )  )\n",
      "     ) (   )  (  (\n",
      "     ( )  (    ) )\n",
      "     _____________\n",
      "    <_____________> ___\n",
      "    |             |/ _ \\\n",
      "    |               | | |\n",
      "    |               |_| |\n",
      " ___|             |\\___/\n",
      "/    \\___________/    \\\n",
      "\\_____________________/\n",
      "    \n",
      "    \n",
      "\n",
      "        (  )   (   )  )\n",
      "     ) (   )  (  (\n",
      "     ( )  (    ) )\n",
      "     _____________\n",
      "    <_____________> ___\n",
      "    |             |/ _ \\\n",
      "    |               | | |\n",
      "    |               |_| |\n",
      " ___|             |\\___/\n",
      "/    \\___________/    \\\n",
      "\\_____________________/\n",
      "    \n",
      "    \n"
     ]
    }
   ],
   "source": [
    "n_tea_please(5)"
   ]
  },
  {
   "cell_type": "markdown",
   "metadata": {},
   "source": [
    "# 12. Klasy i obiekty"
   ]
  },
  {
   "cell_type": "code",
   "execution_count": 201,
   "metadata": {},
   "outputs": [],
   "source": [
    "import cv2\n",
    "import docx2txt\n",
    "from pathlib import Path\n",
    "import pytesseract\n",
    "\n",
    "class Parser:\n",
    "#     def __init__(self, path):\n",
    "#         self.path = path\n",
    "    \n",
    "    def readImg(self, path):\n",
    "        img = cv2.imread(path)\n",
    "        return pytesseract.image_to_string(img)\n",
    "    \n",
    "    def readTxt(self, path):\n",
    "        text = ''\n",
    "        with open(path,'r') as f:\n",
    "            text = f.read()\n",
    "        return text\n",
    "    \n",
    "    def readDocx(self, path):\n",
    "        text = docx2txt.process(path)\n",
    "        return text\n",
    "\n",
    "    def readFiles(self, path):\n",
    "        text_list = []\n",
    "        for root, dirs, files in os.walk(path):\n",
    "            for filename in files:\n",
    "                if not filename.startswith('._'):         \n",
    "                    if Path(filename).suffix.lower() in ['.jpg', '.png','.jpeg']:\n",
    "                        print('Parsing doc: ',filename)\n",
    "                        text = self.readImg(os.path.join(root, filename))\n",
    "                        if text.strip() != '':\n",
    "                            text_list.append({'title':filename,'content':text})\n",
    "                    if Path(filename).suffix.lower() == '.txt':\n",
    "                        print('Parsing doc: ',filename)\n",
    "                        text = self.readTxt(os.path.join(root, filename))\n",
    "                        if text.strip() !=  '':\n",
    "                            text_list.append({'title':filename,'content':text})    \n",
    "                    if Path(filename).suffix.lower() == '.docx':\n",
    "                        print('Parsing doc: ',filename)\n",
    "                        text = self.readDocx(os.path.join(root, filename))                \n",
    "                        if text.strip() !=  '':\n",
    "                            text_list.append({'title':filename,'content':text})                              \n",
    "        return text_list"
   ]
  },
  {
   "cell_type": "code",
   "execution_count": 202,
   "metadata": {},
   "outputs": [],
   "source": [
    "parser = Parser()"
   ]
  },
  {
   "cell_type": "code",
   "execution_count": 203,
   "metadata": {},
   "outputs": [
    {
     "name": "stdout",
     "output_type": "stream",
     "text": [
      "Parsing doc:  plik1.txt\n",
      "Parsing doc:  plik3.png\n",
      "Parsing doc:  plik5.jpg\n",
      "Parsing doc:  plik4.png\n"
     ]
    }
   ],
   "source": [
    "list_of_files = parser.readFiles('folder with files')"
   ]
  },
  {
   "cell_type": "code",
   "execution_count": 205,
   "metadata": {},
   "outputs": [
    {
     "name": "stdout",
     "output_type": "stream",
     "text": [
      "{'title': 'plik1.txt', 'content': 'To jest zdanie z pliku TXT.'}\n",
      "{'title': 'plik5.jpg', 'content': 'P@SILEK\\n\\nW SZKOLE | W DOMU\\n\\nProgram\\nnPositek w szkole i w domu”\\n\\nciepty positek dla dzieci i senioréw\\n\\n \\n\\nMINISTERSTWO . 7 ™ ”\\n| eURICI Ch wwgovpledukaja RF] MinisterstwoFdukaciNarodowey/ YJ @men gov pl'}\n",
      "{'title': 'plik4.png', 'content': '& onlinejpgtools\\nA collection of simple, free\\nand easy to use JPG utilities\\nwww.onlineJPGtools.com\\n\\ncreated by &> browserling\\n\\nTI'}\n"
     ]
    }
   ],
   "source": [
    "for file in list_of_files:\n",
    "    print(file)"
   ]
  },
  {
   "cell_type": "code",
   "execution_count": null,
   "metadata": {},
   "outputs": [],
   "source": []
  }
 ],
 "metadata": {
  "kernelspec": {
   "display_name": "Python 3",
   "language": "python",
   "name": "python3"
  },
  "language_info": {
   "codemirror_mode": {
    "name": "ipython",
    "version": 3
   },
   "file_extension": ".py",
   "mimetype": "text/x-python",
   "name": "python",
   "nbconvert_exporter": "python",
   "pygments_lexer": "ipython3",
   "version": "3.7.6"
  }
 },
 "nbformat": 4,
 "nbformat_minor": 4
}
