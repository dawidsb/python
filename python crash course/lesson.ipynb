{
 "cells": [
  {
   "cell_type": "markdown",
   "metadata": {},
   "source": [
    "# 1. Zanim zaczniemy"
   ]
  },
  {
   "cell_type": "markdown",
   "metadata": {},
   "source": [
    "python --version"
   ]
  },
  {
   "cell_type": "markdown",
   "metadata": {},
   "source": [
    "Aby sprawdzić typ obiektu użyj \"type(...)\"."
   ]
  },
  {
   "cell_type": "code",
   "execution_count": null,
   "metadata": {},
   "outputs": [],
   "source": [
    "variable = ['Hellow','World','!']\n",
    "type(variable)"
   ]
  },
  {
   "cell_type": "markdown",
   "metadata": {},
   "source": [
    "Aby sprawdzić dostępne funkcje dla danego obiektu użyj dir(...)"
   ]
  },
  {
   "cell_type": "code",
   "execution_count": null,
   "metadata": {},
   "outputs": [],
   "source": [
    "from nltk.stem import WordNetLemmatizer\n",
    "dir(WordNetLemmatizer)"
   ]
  },
  {
   "cell_type": "markdown",
   "metadata": {},
   "source": [
    "Dokumentacja dla obiektu, metody lub funkcji"
   ]
  },
  {
   "cell_type": "code",
   "execution_count": null,
   "metadata": {},
   "outputs": [],
   "source": [
    "from nltk.stem import WordNetLemmatizer\n",
    "help(WordNetLemmatizer)"
   ]
  },
  {
   "cell_type": "markdown",
   "metadata": {},
   "source": [
    "# 2. Zmienne"
   ]
  },
  {
   "cell_type": "markdown",
   "metadata": {},
   "source": [
    "Zmienne to nie są stałe. To paradoksalnie tautologiczne ujęcie rzeczy mówi w istocie\n",
    "wszystko o tym czym jest zmienna"
   ]
  },
  {
   "cell_type": "code",
   "execution_count": null,
   "metadata": {},
   "outputs": [],
   "source": [
    "my_number = 5\n",
    "print(\"Variable my_number has value: \", my_number)\n",
    "my_number = 10\n",
    "print(\"Variable my_number has value: \", my_number)"
   ]
  },
  {
   "cell_type": "markdown",
   "metadata": {},
   "source": [
    "W Pythonie nie deklarujemy zmiennych jak to ma miejsce np. w języku JAVA. Zmienna jest tworzona w momencie przypisania do niej jakiejś wartości."
   ]
  },
  {
   "cell_type": "code",
   "execution_count": null,
   "metadata": {},
   "outputs": [],
   "source": [
    "my_number = 5\n",
    "my_word = \"Hej!\"\n",
    "my_list = [5]\n",
    "\n",
    "print(my_list)\n",
    "print(type(my_list))"
   ]
  },
  {
   "cell_type": "markdown",
   "metadata": {},
   "source": [
    "# 3. Operatory matematyczne"
   ]
  },
  {
   "cell_type": "code",
   "execution_count": null,
   "metadata": {},
   "outputs": [],
   "source": [
    "num1 = 12\n",
    "num2 = 4\n",
    "\n",
    "result = num1 + num2\n",
    "print(num1, '+', num2,'=',result)\n",
    "\n",
    "result = num1 - num2\n",
    "print(num1, '-', num2,'=',result)\n",
    "\n",
    "result = num1 * num2\n",
    "print(num1, '*', num2,'=',result)\n",
    "\n",
    "result = num1 / num2\n",
    "print(num1, '/', num2,'=',result)\n",
    "\n",
    "result = num1 % num2\n",
    "print(num1, '%', num2,'=',result)"
   ]
  },
  {
   "cell_type": "markdown",
   "metadata": {},
   "source": [
    "# 4. Operacje na napisach (stringach)"
   ]
  },
  {
   "cell_type": "code",
   "execution_count": null,
   "metadata": {},
   "outputs": [],
   "source": [
    "hw = \"Hello World\"\n",
    "em = \"!\" \n",
    "print(hw + em)\n",
    "\n",
    "age = 30\n",
    "print('I\\'m',age,'years old.')\n",
    "print('I\\'m '+str(age)+' years old.')"
   ]
  },
  {
   "cell_type": "code",
   "execution_count": null,
   "metadata": {},
   "outputs": [],
   "source": [
    "print(hw - '!') #Error! unsupported operand type(s) for -: 'str' and 'str'"
   ]
  },
  {
   "cell_type": "code",
   "execution_count": null,
   "metadata": {},
   "outputs": [],
   "source": [
    "print('I\\'m '+age+' years old.') #TypeError: can only concatenate str (not \"int\") to str"
   ]
  },
  {
   "cell_type": "code",
   "execution_count": null,
   "metadata": {},
   "outputs": [],
   "source": [
    "print('robert trypuz'.title())\n",
    "print('robert trypuz'.upper())\n",
    "print('RoBert TrypUz'.lower())\n",
    "print('RoBert TrypUz'.lower().title())"
   ]
  },
  {
   "cell_type": "code",
   "execution_count": null,
   "metadata": {},
   "outputs": [],
   "source": [
    "print('Pink Floyd')\n",
    "print('\\tPink Floyd') # \\t\n",
    "print('Pink\\nFloyd') # \\n\n",
    "\n",
    "print(' Ummagumma '.rstrip())\n",
    "print(' Ummagumma '.lstrip())\n",
    "print(' Ummagumma '.strip())"
   ]
  },
  {
   "cell_type": "markdown",
   "metadata": {},
   "source": [
    "# 5. Warunki - konstrukcja if"
   ]
  },
  {
   "cell_type": "code",
   "execution_count": null,
   "metadata": {},
   "outputs": [],
   "source": [
    "n1 = 4\n",
    "n2 = 3\n",
    "\n",
    "if n1 % n2 == 0:\n",
    "   print(n1,\"jest podzielne przez\", n2)    \n",
    "else:\n",
    "   print(n1, \"nie jest podzielne przez\",n2)"
   ]
  },
  {
   "cell_type": "code",
   "execution_count": null,
   "metadata": {},
   "outputs": [],
   "source": [
    "# z formatowaniem\n",
    "if n1 % n2 == 0:\n",
    "   print(\"%d jest podzielne przez %d\" % (n1,n2))    \n",
    "else:\n",
    "   print(\"{0:d} nie jest podzielne przez {1:d}\".format(n1,n2))"
   ]
  },
  {
   "cell_type": "code",
   "execution_count": null,
   "metadata": {},
   "outputs": [],
   "source": [
    "missed_classes = 2\n",
    "passed_tests = 3 # out of 4\n",
    "class_participation = True\n",
    "\n",
    "if missed_classes <=2 and passed_tests > 2 and class_participation:\n",
    "   print(\"Zaliczone!\")"
   ]
  },
  {
   "cell_type": "code",
   "execution_count": null,
   "metadata": {},
   "outputs": [],
   "source": [
    "missed_classes = 3\n",
    "passed_tests = 3 # out of 4\n",
    "class_participation = True\n",
    "\n",
    "if missed_classes >2:\n",
    "   print(\"Nie zaliczyles/as, bo nie chodziles/as\")\n",
    "elif passed_tests <=2:         \n",
    "   print(\"Nie zaliczyles/as, bo nie zaliczyles/as min 3 testow!\")\n",
    "elif not class_participation: \n",
    "   print(\"Nie zaliczyles/as, bo nie byles/as aktywny/a!\")   \n",
    "else:\n",
    "   print(\"Zaliczone!\")"
   ]
  },
  {
   "cell_type": "code",
   "execution_count": null,
   "metadata": {},
   "outputs": [],
   "source": [
    "i = 1\n",
    "if i == 1:\n",
    "   pass\n",
    "else:\n",
    "   pass "
   ]
  },
  {
   "cell_type": "markdown",
   "metadata": {},
   "source": [
    "# 6. Pętle"
   ]
  },
  {
   "cell_type": "markdown",
   "metadata": {},
   "source": [
    "## 6.1 Pętla while"
   ]
  },
  {
   "cell_type": "code",
   "execution_count": null,
   "metadata": {},
   "outputs": [],
   "source": [
    "i = 1 # zmienna regulacyjna\n",
    "while i <= 10:\n",
    "   print(i)\n",
    "   i += 1    # inkrementacja (dekrementacja)\n",
    "\n",
    "while i <= 10:\n",
    "   print(i)\n",
    "   i += 1\n",
    "else:\n",
    "   print(\"Current i value:\", i)"
   ]
  },
  {
   "cell_type": "code",
   "execution_count": null,
   "metadata": {},
   "outputs": [],
   "source": [
    "# break     \n",
    "i = 1\n",
    "while i <= 10:\n",
    "   if i > 5:\n",
    "       break\n",
    "   print(i)\n",
    "   i += 1 "
   ]
  },
  {
   "cell_type": "code",
   "execution_count": null,
   "metadata": {},
   "outputs": [],
   "source": [
    "# continue\n",
    "i = 1\n",
    "while i <= 10:\n",
    "   if i >= 4 and i <= 7:\n",
    "       i += 1\n",
    "       continue\n",
    "   print(i)\n",
    "   i += 1"
   ]
  },
  {
   "cell_type": "code",
   "execution_count": null,
   "metadata": {},
   "outputs": [],
   "source": [
    "# break and continue\n",
    "menu = '''\n",
    "Choose what you want me to do for you:\n",
    "1 - COFFEE\n",
    "2 - TEA\n",
    "3 - MAKE ME SMILE\n",
    "---------------\n",
    "To stop this script select 0\n",
    "'''\n",
    "\n",
    "while True:\n",
    "\n",
    "   print(menu)\n",
    "   letter = input('Enter your choice  ')\n",
    "\n",
    "   if letter == '1':\n",
    "       print(\"Function COFFEE not implemented\")\n",
    "       input('Press enter')\n",
    "       continue\n",
    "\n",
    "   if letter == '2':\n",
    "       print(\"Function TEA not implemented\")\n",
    "       input('Press enter')\n",
    "       continue\n",
    "\n",
    "   if letter =='3':\n",
    "       print(smile)\n",
    "       input('Press enter')        \n",
    "       continue\n",
    "\n",
    "   if letter == '0':\n",
    "       break\n",
    "\n",
    "   input('You need to make a valid choice. Press ENTER and try again!')"
   ]
  },
  {
   "cell_type": "markdown",
   "metadata": {},
   "source": [
    "## 6.2 Pętla for"
   ]
  },
  {
   "cell_type": "code",
   "execution_count": null,
   "metadata": {},
   "outputs": [],
   "source": [
    "for i in range(10):\n",
    "   print(i)"
   ]
  },
  {
   "cell_type": "code",
   "execution_count": null,
   "metadata": {},
   "outputs": [],
   "source": [
    "for i in range(5,10):\n",
    "   print(i)    "
   ]
  },
  {
   "cell_type": "code",
   "execution_count": null,
   "metadata": {},
   "outputs": [],
   "source": [
    "for i in range(3):\n",
    "   for j in range(5,7):\n",
    "       print(j)"
   ]
  },
  {
   "cell_type": "code",
   "execution_count": null,
   "metadata": {},
   "outputs": [],
   "source": [
    "# Lista\n",
    "animals = ['dog', 'cat', 'weasel']\n",
    "\n",
    "for animal in animals:\n",
    "   print(animal)"
   ]
  },
  {
   "cell_type": "code",
   "execution_count": null,
   "metadata": {},
   "outputs": [],
   "source": [
    "# Continue  \n",
    "for i in range(1,11):\n",
    "   if i >= 4 and i <= 7:\n",
    "       continue\n",
    "   print(i)"
   ]
  },
  {
   "cell_type": "markdown",
   "metadata": {},
   "source": [
    "# 7. Listy"
   ]
  },
  {
   "cell_type": "markdown",
   "metadata": {},
   "source": [
    "Lista odcinków znajduje się tu: [pierwszego sezonu Doliny Krzemowej](https://en.wikipedia.org/wiki/List_of_Silicon_Valley_episodes#Season_1_(2014))."
   ]
  },
  {
   "cell_type": "code",
   "execution_count": null,
   "metadata": {},
   "outputs": [],
   "source": [
    "sv_sesson1 = ['Optimal Tip-to-Tip Efficiency', 'Third Party Insourcing','Signaling Risk',\n",
    "              'Fiduciary Duties', 'Articles of Incorporation','The Cap Table',\n",
    "              'Minimum Viable Product']   \n",
    "\n",
    "# print list\n",
    "print(sv_sesson1)  "
   ]
  },
  {
   "cell_type": "code",
   "execution_count": null,
   "metadata": {},
   "outputs": [],
   "source": [
    "#print the first element of the list\n",
    "print(sv_sesson1[0])"
   ]
  },
  {
   "cell_type": "code",
   "execution_count": null,
   "metadata": {},
   "outputs": [],
   "source": [
    "# print all elements of the list\n",
    "for episode in sv_sesson1:\n",
    "    print(episode)"
   ]
  },
  {
   "cell_type": "code",
   "execution_count": null,
   "metadata": {},
   "outputs": [],
   "source": [
    "# print all elements of the list with numbers    \n",
    "i=1    \n",
    "for episode in sv_sesson1:\n",
    "    print(str(i)+'.',episode)\n",
    "    i+=1"
   ]
  },
  {
   "cell_type": "code",
   "execution_count": null,
   "metadata": {},
   "outputs": [],
   "source": [
    "for i in range(len(sv_sesson1)):\n",
    "    print(str(i+1)+'.',sv_sesson1[i])"
   ]
  },
  {
   "cell_type": "markdown",
   "metadata": {},
   "source": [
    "Lista sv_sesson1 po piersze jest odwrócona, a po drugie nie zawiera odcinka siódmego \"Proof of Concept\"."
   ]
  },
  {
   "cell_type": "code",
   "execution_count": null,
   "metadata": {},
   "outputs": [],
   "source": [
    "sv_sesson1.reverse()  \n",
    "\n",
    "for i in range(len(sv_sesson1)):\n",
    "    print(str(i+1)+'.',sv_sesson1[i]) "
   ]
  },
  {
   "cell_type": "code",
   "execution_count": null,
   "metadata": {},
   "outputs": [],
   "source": [
    "sv_sesson1.append('Proof of Concept')"
   ]
  },
  {
   "cell_type": "code",
   "execution_count": null,
   "metadata": {},
   "outputs": [],
   "source": [
    "for i in range(len(sv_sesson1)):\n",
    "    print(str(i+1)+'.',sv_sesson1[i]) "
   ]
  },
  {
   "cell_type": "code",
   "execution_count": null,
   "metadata": {},
   "outputs": [],
   "source": [
    "sv_sesson1.remove('Proof of Concept')"
   ]
  },
  {
   "cell_type": "markdown",
   "metadata": {},
   "source": [
    "To polecenie \n",
    "- sv_sesson1[6] = 'Proof of Concept'\n",
    "\n",
    "nie doda nazwy odcinka 'Proof of Concept' na miejscu 7 i nie przesunie odcinka statniego, tylko zastąpi aktualną pozycję 7."
   ]
  },
  {
   "cell_type": "code",
   "execution_count": null,
   "metadata": {},
   "outputs": [],
   "source": [
    "sv_sesson1.insert(6,'Proof of Concept')"
   ]
  },
  {
   "cell_type": "code",
   "execution_count": null,
   "metadata": {},
   "outputs": [],
   "source": [
    "for i in range(len(sv_sesson1)):\n",
    "    print(str(i+1)+'.',sv_sesson1[i])  "
   ]
  },
  {
   "cell_type": "code",
   "execution_count": null,
   "metadata": {},
   "outputs": [],
   "source": [
    "sv_sesson1.insert(6,'Proof of Concept')\n",
    "sv_sesson1.insert(6,'Proof of Concept')"
   ]
  },
  {
   "cell_type": "code",
   "execution_count": null,
   "metadata": {},
   "outputs": [],
   "source": [
    "for i in range(len(sv_sesson1)):\n",
    "    print(str(i+1)+'.',sv_sesson1[i]) "
   ]
  },
  {
   "cell_type": "markdown",
   "metadata": {},
   "source": [
    "Jeśli przez pomyłkę dodamy kilka razy 'Proof of Concept' do listy odcinków możemy to sprawdzić jak wiele ich jest i gdzie są zlokalizowane dzięki tym poleceniom:"
   ]
  },
  {
   "cell_type": "code",
   "execution_count": null,
   "metadata": {},
   "outputs": [],
   "source": [
    "print(sv_sesson1.count('Proof of Concept'))\n",
    "\n",
    "# the first index of an element\n",
    "print(sv_sesson1.index('Proof of Concept'))"
   ]
  },
  {
   "cell_type": "code",
   "execution_count": null,
   "metadata": {},
   "outputs": [],
   "source": [
    "sv_sesson1.pop(6)"
   ]
  },
  {
   "cell_type": "code",
   "execution_count": null,
   "metadata": {},
   "outputs": [],
   "source": [
    "for i in range(len(sv_sesson1)):\n",
    "    print(str(i+1)+'.',sv_sesson1[i]) "
   ]
  },
  {
   "cell_type": "code",
   "execution_count": null,
   "metadata": {},
   "outputs": [],
   "source": [
    "del sv_sesson1[6]\n",
    "\n",
    "for i in range(len(sv_sesson1)):\n",
    "    print(str(i+1)+'.',sv_sesson1[i]) "
   ]
  },
  {
   "cell_type": "code",
   "execution_count": null,
   "metadata": {},
   "outputs": [],
   "source": [
    "sv_sesson2 = ['Sand Hill Shuffle','Runaway Devaluation','Bad Money',\n",
    "              'The Lady','Server Space','Homicide','Adult Content',\n",
    "              'White Hat Black Hat','Binding Arbitration',\n",
    "              'Two Days of The Condor'] \n",
    "              \n",
    "# sv_sesson1.extend(sv_sesson2) # Wrong!\n",
    "\n",
    "sv_two_first_sessons = sv_sesson1 + sv_sesson2 \n",
    "\n",
    "for i in range(len(sv_two_first_sessons)):\n",
    "    print(str(i+1)+'.',sv_two_first_sessons[i]) "
   ]
  },
  {
   "cell_type": "markdown",
   "metadata": {},
   "source": [
    "## List comprihension"
   ]
  },
  {
   "cell_type": "code",
   "execution_count": null,
   "metadata": {},
   "outputs": [],
   "source": [
    "# List comprehension in Python\n",
    "\n",
    "numbers = [1,2,3,4,5,6,7,8,9,10]\n",
    "\n",
    "# Copying using a loop\n",
    "newNumbers = []\n",
    "for number in numbers:\n",
    "    newNumbers.append(number)\n",
    "\n",
    "print(newNumbers)"
   ]
  },
  {
   "cell_type": "code",
   "execution_count": null,
   "metadata": {},
   "outputs": [],
   "source": [
    "# Copying using list comprehension\n",
    "newNumbers = [number for number in numbers]\n",
    "print(newNumbers)"
   ]
  },
  {
   "cell_type": "code",
   "execution_count": null,
   "metadata": {},
   "outputs": [],
   "source": [
    "# Copying and filtering based on condition\n",
    "newNumbers = [number for number in numbers if number <= 5]\n",
    "print(newNumbers)"
   ]
  },
  {
   "cell_type": "code",
   "execution_count": null,
   "metadata": {},
   "outputs": [],
   "source": [
    "# Copying and filtering based on another list\n",
    "numbers2 = [1,3,5,7,9]\n",
    "newNumbers = [number for number in numbers if number not in numbers2]\n",
    "print(newNumbers)"
   ]
  },
  {
   "cell_type": "code",
   "execution_count": null,
   "metadata": {},
   "outputs": [],
   "source": [
    "# Some more examples\n",
    "newNumbers = [number*2 for number in numbers]\n",
    "print(newNumbers)"
   ]
  },
  {
   "cell_type": "code",
   "execution_count": null,
   "metadata": {},
   "outputs": [],
   "source": [
    "# Some more examples\n",
    "newNumbers = [number for number in numbers if number%2 == 1]\n",
    "print(newNumbers)"
   ]
  },
  {
   "cell_type": "code",
   "execution_count": null,
   "metadata": {},
   "outputs": [],
   "source": [
    "# Generator Comprehension\n",
    "squareGen = (number**2 for number in numbers)\n",
    "print(squareGen)\n",
    "list(squareGen)"
   ]
  },
  {
   "cell_type": "markdown",
   "metadata": {},
   "source": [
    "## join()"
   ]
  },
  {
   "cell_type": "code",
   "execution_count": null,
   "metadata": {},
   "outputs": [],
   "source": [
    "# Joining list of words\n",
    "words = [\"I\",\"love\",\"my\",\"dog\",\".\"]\n",
    "\n",
    "sentence = ' '.join(words)\n",
    "print(sentence)\n",
    "\n",
    "sentence = '-'.join(words)\n",
    "print(sentence)"
   ]
  },
  {
   "cell_type": "markdown",
   "metadata": {},
   "source": [
    "# 8. Krotki"
   ]
  },
  {
   "cell_type": "code",
   "execution_count": null,
   "metadata": {},
   "outputs": [],
   "source": [
    "krzysztof_piekarz = (185,92,130)\n",
    "radoslaw_slodkiewicz = (180,113,140)\n",
    "\n",
    "print(krzysztof_piekarz[2])\n",
    "print(len(krzysztof_piekarz))"
   ]
  },
  {
   "cell_type": "code",
   "execution_count": null,
   "metadata": {},
   "outputs": [],
   "source": [
    "my_tuple = tuple(sv_sesson2)\n",
    "print(my_tuple)"
   ]
  },
  {
   "cell_type": "code",
   "execution_count": null,
   "metadata": {},
   "outputs": [],
   "source": [
    "list(my_tuple)"
   ]
  },
  {
   "cell_type": "markdown",
   "metadata": {},
   "source": [
    "# 9. Słowniki"
   ]
  },
  {
   "cell_type": "code",
   "execution_count": null,
   "metadata": {},
   "outputs": [],
   "source": [
    "slownik = {}\n",
    "\n",
    "slownik['mama'] = 'mother'\n",
    "slownik['tata'] = 'father'\n",
    "slownik['córka'] = 'daughter'\n",
    "slownik['syn'] = 'son'\n",
    "\n",
    "print(slownik)"
   ]
  },
  {
   "cell_type": "code",
   "execution_count": null,
   "metadata": {},
   "outputs": [],
   "source": [
    "print(len(slownik))\n",
    "\n",
    "print(slownik['mama'])"
   ]
  },
  {
   "cell_type": "code",
   "execution_count": null,
   "metadata": {},
   "outputs": [],
   "source": [
    "for key in slownik.keys():\n",
    "    print(key)"
   ]
  },
  {
   "cell_type": "code",
   "execution_count": null,
   "metadata": {},
   "outputs": [],
   "source": [
    "for value in slownik.values():\n",
    "    print(value)    "
   ]
  },
  {
   "cell_type": "code",
   "execution_count": null,
   "metadata": {},
   "outputs": [],
   "source": [
    "for key in slownik.keys():\n",
    "    print(slownik[key])"
   ]
  },
  {
   "cell_type": "code",
   "execution_count": null,
   "metadata": {},
   "outputs": [],
   "source": [
    "print(slownik.get('wnuk'))"
   ]
  },
  {
   "cell_type": "code",
   "execution_count": null,
   "metadata": {},
   "outputs": [],
   "source": [
    "print(slownik.get('wnuk','Nie ma takiego w słowniku.'))"
   ]
  },
  {
   "cell_type": "code",
   "execution_count": null,
   "metadata": {},
   "outputs": [],
   "source": [
    "slownik.update({'mama':'mom','wnuk':'grandson'})\n",
    "print(slownik)"
   ]
  },
  {
   "cell_type": "code",
   "execution_count": null,
   "metadata": {},
   "outputs": [],
   "source": [
    "slownik.pop('wnuk')\n",
    "print(slownik)"
   ]
  },
  {
   "cell_type": "code",
   "execution_count": null,
   "metadata": {},
   "outputs": [],
   "source": [
    "del slownik['syn']\n",
    "print(slownik)"
   ]
  },
  {
   "cell_type": "markdown",
   "metadata": {},
   "source": [
    "## 9.1 Dictionary Comprehension"
   ]
  },
  {
   "cell_type": "code",
   "execution_count": null,
   "metadata": {},
   "outputs": [],
   "source": [
    "myDict = {\"apple\":1,\"orange\":4,\"banana\":10}\n",
    "print(myDict)"
   ]
  },
  {
   "cell_type": "code",
   "execution_count": null,
   "metadata": {},
   "outputs": [],
   "source": [
    "print(myDict.keys())\n",
    "\n",
    "newDict = {key:myDict[key] for key in myDict.keys()}\n",
    "\n",
    "print(newDict)"
   ]
  },
  {
   "cell_type": "code",
   "execution_count": null,
   "metadata": {},
   "outputs": [],
   "source": [
    "newDict = {key:myDict[key] for key in myDict.keys() if myDict[key] > 5}\n",
    "print(newDict)"
   ]
  },
  {
   "cell_type": "markdown",
   "metadata": {},
   "source": [
    "# 10. I/O i czytanie pliku"
   ]
  },
  {
   "cell_type": "code",
   "execution_count": null,
   "metadata": {},
   "outputs": [],
   "source": [
    "# I/O\n",
    "inp = input('Give the first number: ')\n",
    "number1 = int(inp)\n",
    "\n",
    "inp = input('Give the second number: ')\n",
    "number2 = int(inp)\n",
    "\n",
    "print('The sum of the numbers you entered is:',number1+number2)"
   ]
  },
  {
   "cell_type": "code",
   "execution_count": null,
   "metadata": {},
   "outputs": [],
   "source": [
    "help(open)"
   ]
  },
  {
   "cell_type": "code",
   "execution_count": null,
   "metadata": {},
   "outputs": [],
   "source": [
    "inp = input('Your text: ')\n",
    "\n",
    "with open('moj_plik.txt','w') as f:\n",
    "    f.write(inp)"
   ]
  },
  {
   "cell_type": "code",
   "execution_count": null,
   "metadata": {},
   "outputs": [],
   "source": [
    "# Reading from a file    \n",
    "with open('moj_plik.txt','r') as f:\n",
    "    string = f.read()\n",
    "    print('You have written:',\"\\\"\"+string+\"\\\"\\n\")"
   ]
  },
  {
   "cell_type": "code",
   "execution_count": null,
   "metadata": {},
   "outputs": [],
   "source": [
    "# Reading from a file    \n",
    "with open('moj_plik.txt','r') as f:\n",
    "    for line in f:\n",
    "        print(line)"
   ]
  },
  {
   "cell_type": "markdown",
   "metadata": {},
   "source": [
    "## os"
   ]
  },
  {
   "cell_type": "code",
   "execution_count": null,
   "metadata": {},
   "outputs": [],
   "source": [
    "import os\n",
    "print(os.getcwd())"
   ]
  },
  {
   "cell_type": "code",
   "execution_count": null,
   "metadata": {},
   "outputs": [],
   "source": [
    "file = os.path.join(os.getcwd(),'moj_plik.txt')\n",
    "print(file)"
   ]
  },
  {
   "cell_type": "code",
   "execution_count": null,
   "metadata": {},
   "outputs": [],
   "source": [
    "os.path.abspath('moj_plik.txt')"
   ]
  },
  {
   "cell_type": "code",
   "execution_count": null,
   "metadata": {},
   "outputs": [],
   "source": [
    "print(os.path.basename(file))\n",
    "print(os.path.dirname(file))\n",
    "print(os.path.exists(file))"
   ]
  },
  {
   "cell_type": "markdown",
   "metadata": {},
   "source": [
    "# 11. Funkcje"
   ]
  },
  {
   "cell_type": "code",
   "execution_count": null,
   "metadata": {},
   "outputs": [],
   "source": [
    "def tea_please():\n",
    "    tea = r'''\n",
    "        (  )   (   )  )\n",
    "     ) (   )  (  (\n",
    "     ( )  (    ) )\n",
    "     _____________\n",
    "    <_____________> ___\n",
    "    |             |/ _ \\\n",
    "    |               | | |\n",
    "    |               |_| |\n",
    " ___|             |\\___/\n",
    "/    \\___________/    \\\n",
    "\\_____________________/\n",
    "    \n",
    "    '''\n",
    "    print(tea)\n",
    "    return"
   ]
  },
  {
   "cell_type": "code",
   "execution_count": null,
   "metadata": {},
   "outputs": [],
   "source": [
    "tea_please()"
   ]
  },
  {
   "cell_type": "code",
   "execution_count": null,
   "metadata": {},
   "outputs": [],
   "source": [
    "def tree_tea_please():\n",
    "    for i in range(3):\n",
    "        tea_please()\n",
    "    return"
   ]
  },
  {
   "cell_type": "code",
   "execution_count": null,
   "metadata": {},
   "outputs": [],
   "source": [
    "tree_tea_please()"
   ]
  },
  {
   "cell_type": "code",
   "execution_count": null,
   "metadata": {},
   "outputs": [],
   "source": [
    "def n_tea_please(number = 1):\n",
    "    for i in range(number):\n",
    "        tea_please()\n",
    "    return"
   ]
  },
  {
   "cell_type": "code",
   "execution_count": null,
   "metadata": {},
   "outputs": [],
   "source": [
    "n_tea_please()"
   ]
  },
  {
   "cell_type": "code",
   "execution_count": null,
   "metadata": {},
   "outputs": [],
   "source": [
    "n_tea_please(5)"
   ]
  },
  {
   "cell_type": "markdown",
   "metadata": {},
   "source": [
    "# 12. Klasy i obiekty"
   ]
  },
  {
   "cell_type": "code",
   "execution_count": null,
   "metadata": {},
   "outputs": [],
   "source": [
    "import cv2\n",
    "import docx2txt\n",
    "from pathlib import Path\n",
    "import pytesseract\n",
    "\n",
    "class Parser:\n",
    "#     def __init__(self, path):\n",
    "#         self.path = path\n",
    "    \n",
    "    def readImg(self, path):\n",
    "        img = cv2.imread(path)\n",
    "        return pytesseract.image_to_string(img)\n",
    "    \n",
    "    def readTxt(self, path):\n",
    "        text = ''\n",
    "        with open(path,'r') as f:\n",
    "            text = f.read()\n",
    "        return text\n",
    "    \n",
    "    def readDocx(self, path):\n",
    "        text = docx2txt.process(path)\n",
    "        return text\n",
    "\n",
    "    def readFiles(self, path):\n",
    "        text_list = []\n",
    "        for root, dirs, files in os.walk(path):\n",
    "            for filename in files:\n",
    "                if not filename.startswith('._'):         \n",
    "                    if Path(filename).suffix.lower() in ['.jpg', '.png','.jpeg']:\n",
    "                        print('Parsing doc: ',filename)\n",
    "                        text = self.readImg(os.path.join(root, filename))\n",
    "                        if text.strip() != '':\n",
    "                            text_list.append({'title':filename,'content':text})\n",
    "                    if Path(filename).suffix.lower() == '.txt':\n",
    "                        print('Parsing doc: ',filename)\n",
    "                        text = self.readTxt(os.path.join(root, filename))\n",
    "                        if text.strip() !=  '':\n",
    "                            text_list.append({'title':filename,'content':text})    \n",
    "                    if Path(filename).suffix.lower() == '.docx':\n",
    "                        print('Parsing doc: ',filename)\n",
    "                        text = self.readDocx(os.path.join(root, filename))                \n",
    "                        if text.strip() !=  '':\n",
    "                            text_list.append({'title':filename,'content':text})                              \n",
    "        return text_list"
   ]
  },
  {
   "cell_type": "code",
   "execution_count": null,
   "metadata": {},
   "outputs": [],
   "source": [
    "parser = Parser()"
   ]
  },
  {
   "cell_type": "code",
   "execution_count": null,
   "metadata": {},
   "outputs": [],
   "source": [
    "list_of_files = parser.readFiles('folder with files')"
   ]
  },
  {
   "cell_type": "code",
   "execution_count": null,
   "metadata": {},
   "outputs": [],
   "source": [
    "for file in list_of_files:\n",
    "    print(file)"
   ]
  },
  {
   "cell_type": "code",
   "execution_count": null,
   "metadata": {},
   "outputs": [],
   "source": []
  }
 ],
 "metadata": {
  "kernelspec": {
   "display_name": "Python 3",
   "language": "python",
   "name": "python3"
  },
  "language_info": {
   "codemirror_mode": {
    "name": "ipython",
    "version": 3
   },
   "file_extension": ".py",
   "mimetype": "text/x-python",
   "name": "python",
   "nbconvert_exporter": "python",
   "pygments_lexer": "ipython3",
   "version": "3.7.6"
  }
 },
 "nbformat": 4,
 "nbformat_minor": 4
}
